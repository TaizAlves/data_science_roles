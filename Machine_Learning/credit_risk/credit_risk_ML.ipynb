{
 "cells": [
  {
   "cell_type": "code",
   "execution_count": 1,
   "id": "425124ba",
   "metadata": {},
   "outputs": [],
   "source": [
    "import pandas as pd \n",
    "import numpy as np\n",
    "\n",
    "#plot\n",
    "import matplotlib.pyplot as plt\n",
    "import matplotlib.colors\n",
    "import seaborn as sns\n",
    "\n",
    "\n",
    "# data preparation and split\n",
    "from sklearn.model_selection import train_test_split\n",
    "\n",
    "from sklearn.preprocessing import MinMaxScaler   \n",
    "\n",
    "#models\n",
    "from sklearn.linear_model import LogisticRegression\n",
    "import xgboost as xgb\n",
    "\n",
    "from sklearn import neighbors       as nh \n",
    "\n",
    "\n",
    "#selection and plot selection\n",
    "from sklearn import ensemble        as en\n",
    "from yellowbrick.features import Rank1D\n",
    "\n",
    "from sklearn import model_selection as ms\n",
    "\n",
    "\n",
    "#metrics\n",
    "from sklearn.metrics import classification_report, precision_recall_fscore_support, roc_curve, roc_auc_score, confusion_matrix\n",
    "\n",
    "#cross validation\n",
    "from sklearn.model_selection import cross_val_score\n",
    "\n",
    "from sklearn.model_selection import RandomizedSearchCV\n",
    "\n",
    "\n",
    "# Check model calibration\n",
    "from sklearn.calibration import calibration_curve\n",
    "\n",
    "\n",
    "#config\n",
    "import warnings\n",
    "warnings.filterwarnings( 'ignore' )"
   ]
  },
  {
   "cell_type": "code",
   "execution_count": 2,
   "id": "a7880e10",
   "metadata": {},
   "outputs": [],
   "source": [
    "def encoder_transform(encoder, df, column):\n",
    "    df.loc[:, column] =  encoder.transform(df[[column]] )\n",
    "    return df[[column]] \n"
   ]
  },
  {
   "cell_type": "code",
   "execution_count": 3,
   "id": "650f17f6",
   "metadata": {},
   "outputs": [],
   "source": [
    "def cross_validation(num_folds, model,model_name, X_train, y_train, verbose= True ):\n",
    "    for j in reversed( range( 1, num_folds+1 ) ):\n",
    "        if verbose :\n",
    "            print( '\\nKFold Number: {}'.format( j ) )\n",
    "\n",
    "        kfold = ms.StratifiedKFold(n_splits = num_folds, shuffle = True, random_state = 42)\n",
    "\n",
    "        precision_list = []\n",
    "        recall_list = []\n",
    "        f1_score_list = []\n",
    "\n",
    "\n",
    "        for train_cv,val_cv in kfold.split(X_train, y_train):\n",
    "\n",
    "            x_train_fold = X_train.iloc[train_cv]\n",
    "            y_train_fold = y_train.iloc[train_cv]\n",
    "\n",
    "            x_val_fold = X_train.iloc[val_cv]\n",
    "            y_val_fold = y_train.iloc[val_cv]\n",
    "\n",
    "            model_fit = model.fit(x_train_fold,y_train_fold)\n",
    "\n",
    "            preds = model_fit.predict_proba(x_val_fold)\n",
    "            preds_df = pd.DataFrame(preds[:,1], columns = ['prob_default'])\n",
    "            #Therehold 0.5\n",
    "            preds_df['pred_loan_status'] = preds_df['prob_default'].apply(lambda x: 1 if x > 0.5 else 0)\n",
    "            pd.concat([y_val_fold.reset_index(drop = True), preds_df], axis = 1)\n",
    "\n",
    "            precision_recall_f1 = precision_recall_fscore_support(y_val_fold,preds_df['pred_loan_status'])\n",
    "            precision_default = precision_recall_f1[0][1]\n",
    "            recall_default = precision_recall_f1[1][1]\n",
    "            f1_default = precision_recall_f1[2][1]\n",
    "\n",
    "\n",
    "            precision_list.append(precision_default)\n",
    "\n",
    "            recall_list.append(recall_default)\n",
    "\n",
    "            f1_score_list.append(f1_default)\n",
    "\n",
    "\n",
    "    return pd.DataFrame( {'Model Name': model_name,\n",
    "                          'PRECISION': np.round(np.mean(precision_list), 3).astype(str) + ' +/- ' + np.round(np.std(precision_list), 3).astype(str),\n",
    "                          'RECALL': np.round( np.mean( recall_list ), 3 ).astype( str ) + ' +/- ' + np.round( np.std( recall_list ), 3 ).astype( str ),\n",
    "                          'F1_score': np.round( np.mean( f1_score_list ), 3 ).astype( str ) + ' +/- ' + np.round( np.std( f1_score_list ), 3 ).astype( str ) }, index=[0] )\n",
    "\n",
    "\n"
   ]
  },
  {
   "cell_type": "code",
   "execution_count": 51,
   "id": "e422615a",
   "metadata": {},
   "outputs": [],
   "source": [
    "def preds_df_func(model_preds,X_test, y_test, therehold = 0.5):\n",
    "    \n",
    "\n",
    "    # Create dataframes of first five predictions, and first five true labels\n",
    "    preds_df = pd.DataFrame(model_preds[:,1], columns = ['prob_default'])\n",
    "\n",
    "    # determine Therehold \n",
    "    preds_df['pred_loan_status'] = preds_df['prob_default'].apply(lambda x: 1 if x > therehold else 0)\n",
    "\n",
    "    pd.concat([y_test.reset_index(drop = True), preds_df], axis = 1)\n",
    "    \n",
    "    return preds_df\n",
    "\n",
    "def economic_impact_nondetected_default(preds_df, y_test,avg_loan_amnt):\n",
    "    \n",
    "    # Store the number of loan defaults from the prediction data\n",
    "    num_defaults = preds_df['pred_loan_status'].value_counts()[1]\n",
    "    nondef_recalls = preds_df['pred_loan_status'].value_counts()[0]\n",
    "\n",
    "    # Store the default recall from the classification report\n",
    "    default_recall = precision_recall_fscore_support(y_test,preds_df['pred_loan_status'])[1][1]\n",
    "\n",
    "    # Calculate the estimated impact of the new default recall rate\n",
    "    non_detected_default_impact = round(avg_loan_amnt * num_defaults * (1 - default_recall), 2)\n",
    "    print('Estimated Loss impact: $', non_detected_default_impact)\n",
    "    \n",
    "    return non_detected_default_impact"
   ]
  },
  {
   "cell_type": "code",
   "execution_count": 5,
   "id": "d1625249",
   "metadata": {},
   "outputs": [],
   "source": [
    "cr_loan_clean = pd.read_csv('cr_lean_lean.csv')"
   ]
  },
  {
   "cell_type": "code",
   "execution_count": 6,
   "id": "f01a45e8",
   "metadata": {},
   "outputs": [
    {
     "data": {
      "text/html": [
       "<div>\n",
       "<style scoped>\n",
       "    .dataframe tbody tr th:only-of-type {\n",
       "        vertical-align: middle;\n",
       "    }\n",
       "\n",
       "    .dataframe tbody tr th {\n",
       "        vertical-align: top;\n",
       "    }\n",
       "\n",
       "    .dataframe thead th {\n",
       "        text-align: right;\n",
       "    }\n",
       "</style>\n",
       "<table border=\"1\" class=\"dataframe\">\n",
       "  <thead>\n",
       "    <tr style=\"text-align: right;\">\n",
       "      <th></th>\n",
       "      <th>person_age</th>\n",
       "      <th>person_income</th>\n",
       "      <th>person_home_ownership</th>\n",
       "      <th>person_emp_length</th>\n",
       "      <th>loan_intent</th>\n",
       "      <th>loan_grade</th>\n",
       "      <th>loan_amnt</th>\n",
       "      <th>loan_int_rate</th>\n",
       "      <th>loan_status</th>\n",
       "      <th>loan_percent_income</th>\n",
       "      <th>cb_person_default_on_file</th>\n",
       "      <th>cb_person_cred_hist_length</th>\n",
       "    </tr>\n",
       "  </thead>\n",
       "  <tbody>\n",
       "    <tr>\n",
       "      <th>0</th>\n",
       "      <td>21</td>\n",
       "      <td>9600</td>\n",
       "      <td>OWN</td>\n",
       "      <td>5.0</td>\n",
       "      <td>EDUCATION</td>\n",
       "      <td>B</td>\n",
       "      <td>1000</td>\n",
       "      <td>11.14</td>\n",
       "      <td>0</td>\n",
       "      <td>0.10</td>\n",
       "      <td>N</td>\n",
       "      <td>2</td>\n",
       "    </tr>\n",
       "    <tr>\n",
       "      <th>1</th>\n",
       "      <td>25</td>\n",
       "      <td>9600</td>\n",
       "      <td>MORTGAGE</td>\n",
       "      <td>1.0</td>\n",
       "      <td>MEDICAL</td>\n",
       "      <td>C</td>\n",
       "      <td>5500</td>\n",
       "      <td>12.87</td>\n",
       "      <td>1</td>\n",
       "      <td>0.57</td>\n",
       "      <td>N</td>\n",
       "      <td>3</td>\n",
       "    </tr>\n",
       "    <tr>\n",
       "      <th>2</th>\n",
       "      <td>23</td>\n",
       "      <td>65500</td>\n",
       "      <td>RENT</td>\n",
       "      <td>4.0</td>\n",
       "      <td>MEDICAL</td>\n",
       "      <td>C</td>\n",
       "      <td>35000</td>\n",
       "      <td>15.23</td>\n",
       "      <td>1</td>\n",
       "      <td>0.53</td>\n",
       "      <td>N</td>\n",
       "      <td>2</td>\n",
       "    </tr>\n",
       "    <tr>\n",
       "      <th>3</th>\n",
       "      <td>24</td>\n",
       "      <td>54400</td>\n",
       "      <td>RENT</td>\n",
       "      <td>8.0</td>\n",
       "      <td>MEDICAL</td>\n",
       "      <td>C</td>\n",
       "      <td>35000</td>\n",
       "      <td>14.27</td>\n",
       "      <td>1</td>\n",
       "      <td>0.55</td>\n",
       "      <td>Y</td>\n",
       "      <td>4</td>\n",
       "    </tr>\n",
       "    <tr>\n",
       "      <th>4</th>\n",
       "      <td>21</td>\n",
       "      <td>9900</td>\n",
       "      <td>OWN</td>\n",
       "      <td>2.0</td>\n",
       "      <td>VENTURE</td>\n",
       "      <td>A</td>\n",
       "      <td>2500</td>\n",
       "      <td>7.14</td>\n",
       "      <td>1</td>\n",
       "      <td>0.25</td>\n",
       "      <td>N</td>\n",
       "      <td>2</td>\n",
       "    </tr>\n",
       "  </tbody>\n",
       "</table>\n",
       "</div>"
      ],
      "text/plain": [
       "   person_age  person_income person_home_ownership  person_emp_length  \\\n",
       "0          21           9600                   OWN                5.0   \n",
       "1          25           9600              MORTGAGE                1.0   \n",
       "2          23          65500                  RENT                4.0   \n",
       "3          24          54400                  RENT                8.0   \n",
       "4          21           9900                   OWN                2.0   \n",
       "\n",
       "  loan_intent loan_grade  loan_amnt  loan_int_rate  loan_status  \\\n",
       "0   EDUCATION          B       1000          11.14            0   \n",
       "1     MEDICAL          C       5500          12.87            1   \n",
       "2     MEDICAL          C      35000          15.23            1   \n",
       "3     MEDICAL          C      35000          14.27            1   \n",
       "4     VENTURE          A       2500           7.14            1   \n",
       "\n",
       "   loan_percent_income cb_person_default_on_file  cb_person_cred_hist_length  \n",
       "0                 0.10                         N                           2  \n",
       "1                 0.57                         N                           3  \n",
       "2                 0.53                         N                           2  \n",
       "3                 0.55                         Y                           4  \n",
       "4                 0.25                         N                           2  "
      ]
     },
     "execution_count": 6,
     "metadata": {},
     "output_type": "execute_result"
    }
   ],
   "source": [
    "cr_loan_clean.head()"
   ]
  },
  {
   "cell_type": "markdown",
   "id": "810b8882",
   "metadata": {},
   "source": [
    "# Data Preparation"
   ]
  },
  {
   "cell_type": "code",
   "execution_count": 7,
   "id": "1bebf9af",
   "metadata": {},
   "outputs": [],
   "source": [
    "#One-hot encoding credit data\n",
    "# Create two data sets for numeric and non-numeric data\n",
    "cred_num = cr_loan_clean.select_dtypes(exclude=['object'])\n",
    "cred_str = cr_loan_clean.select_dtypes(include=['object'])\n"
   ]
  },
  {
   "cell_type": "markdown",
   "id": "5a19db48",
   "metadata": {},
   "source": [
    "### Transformation"
   ]
  },
  {
   "cell_type": "code",
   "execution_count": 8,
   "id": "c339b3f8",
   "metadata": {},
   "outputs": [
    {
     "data": {
      "image/png": "[encoded data removed]",
      "text/plain": [
       "<Figure size 864x576 with 9 Axes>"
      ]
     },
     "metadata": {
      "needs_background": "light"
     },
     "output_type": "display_data"
    }
   ],
   "source": [
    "cred_num.hist( bins=25, figsize= (12,8) );"
   ]
  },
  {
   "cell_type": "code",
   "execution_count": 9,
   "id": "867034d3",
   "metadata": {},
   "outputs": [],
   "source": [
    "# One-hot encode the non-numeric columns\n",
    "cred_str_onehot = pd.get_dummies(cred_str)\n",
    "\n",
    "# Union the one-hot encoded columns to the numeric ones\n",
    "cr_loan_prep = pd.concat([cred_num, cred_str_onehot], axis=1)\n",
    "\n"
   ]
  },
  {
   "cell_type": "code",
   "execution_count": 10,
   "id": "525886a4",
   "metadata": {},
   "outputs": [],
   "source": [
    "# Log person_income and loan_amnt\n",
    "cr_loan_prep['person_income_log'] = np.log1p( cr_loan_prep['person_income'] )\n",
    "cr_loan_prep['loan_amnt_log'] = np.log1p( cr_loan_prep['loan_amnt']  )\n",
    "\n"
   ]
  },
  {
   "cell_type": "code",
   "execution_count": 11,
   "id": "f7a772f6",
   "metadata": {},
   "outputs": [
    {
     "data": {
      "image/png": "[encoded data removed]",
      "text/plain": [
       "<Figure size 432x288 with 1 Axes>"
      ]
     },
     "metadata": {
      "needs_background": "light"
     },
     "output_type": "display_data"
    }
   ],
   "source": [
    "np.log1p( cr_loan_prep['loan_amnt'] ).plot(kind= 'hist');"
   ]
  },
  {
   "cell_type": "code",
   "execution_count": 12,
   "id": "a53ec1a0",
   "metadata": {},
   "outputs": [
    {
     "data": {
      "text/html": [
       "<div>\n",
       "<style scoped>\n",
       "    .dataframe tbody tr th:only-of-type {\n",
       "        vertical-align: middle;\n",
       "    }\n",
       "\n",
       "    .dataframe tbody tr th {\n",
       "        vertical-align: top;\n",
       "    }\n",
       "\n",
       "    .dataframe thead th {\n",
       "        text-align: right;\n",
       "    }\n",
       "</style>\n",
       "<table border=\"1\" class=\"dataframe\">\n",
       "  <thead>\n",
       "    <tr style=\"text-align: right;\">\n",
       "      <th></th>\n",
       "      <th>person_age</th>\n",
       "      <th>person_income</th>\n",
       "      <th>person_emp_length</th>\n",
       "      <th>loan_amnt</th>\n",
       "      <th>loan_int_rate</th>\n",
       "      <th>loan_status</th>\n",
       "      <th>loan_percent_income</th>\n",
       "      <th>cb_person_cred_hist_length</th>\n",
       "      <th>person_home_ownership_MORTGAGE</th>\n",
       "      <th>person_home_ownership_OTHER</th>\n",
       "      <th>...</th>\n",
       "      <th>loan_grade_B</th>\n",
       "      <th>loan_grade_C</th>\n",
       "      <th>loan_grade_D</th>\n",
       "      <th>loan_grade_E</th>\n",
       "      <th>loan_grade_F</th>\n",
       "      <th>loan_grade_G</th>\n",
       "      <th>cb_person_default_on_file_N</th>\n",
       "      <th>cb_person_default_on_file_Y</th>\n",
       "      <th>person_income_log</th>\n",
       "      <th>loan_amnt_log</th>\n",
       "    </tr>\n",
       "  </thead>\n",
       "  <tbody>\n",
       "    <tr>\n",
       "      <th>0</th>\n",
       "      <td>21</td>\n",
       "      <td>9600</td>\n",
       "      <td>5.0</td>\n",
       "      <td>1000</td>\n",
       "      <td>11.14</td>\n",
       "      <td>0</td>\n",
       "      <td>0.10</td>\n",
       "      <td>2</td>\n",
       "      <td>0</td>\n",
       "      <td>0</td>\n",
       "      <td>...</td>\n",
       "      <td>1</td>\n",
       "      <td>0</td>\n",
       "      <td>0</td>\n",
       "      <td>0</td>\n",
       "      <td>0</td>\n",
       "      <td>0</td>\n",
       "      <td>1</td>\n",
       "      <td>0</td>\n",
       "      <td>9.169623</td>\n",
       "      <td>6.908755</td>\n",
       "    </tr>\n",
       "    <tr>\n",
       "      <th>1</th>\n",
       "      <td>25</td>\n",
       "      <td>9600</td>\n",
       "      <td>1.0</td>\n",
       "      <td>5500</td>\n",
       "      <td>12.87</td>\n",
       "      <td>1</td>\n",
       "      <td>0.57</td>\n",
       "      <td>3</td>\n",
       "      <td>1</td>\n",
       "      <td>0</td>\n",
       "      <td>...</td>\n",
       "      <td>0</td>\n",
       "      <td>1</td>\n",
       "      <td>0</td>\n",
       "      <td>0</td>\n",
       "      <td>0</td>\n",
       "      <td>0</td>\n",
       "      <td>1</td>\n",
       "      <td>0</td>\n",
       "      <td>9.169623</td>\n",
       "      <td>8.612685</td>\n",
       "    </tr>\n",
       "  </tbody>\n",
       "</table>\n",
       "<p>2 rows × 29 columns</p>\n",
       "</div>"
      ],
      "text/plain": [
       "   person_age  person_income  person_emp_length  loan_amnt  loan_int_rate  \\\n",
       "0          21           9600                5.0       1000          11.14   \n",
       "1          25           9600                1.0       5500          12.87   \n",
       "\n",
       "   loan_status  loan_percent_income  cb_person_cred_hist_length  \\\n",
       "0            0                 0.10                           2   \n",
       "1            1                 0.57                           3   \n",
       "\n",
       "   person_home_ownership_MORTGAGE  person_home_ownership_OTHER  ...  \\\n",
       "0                               0                            0  ...   \n",
       "1                               1                            0  ...   \n",
       "\n",
       "   loan_grade_B  loan_grade_C  loan_grade_D  loan_grade_E  loan_grade_F  \\\n",
       "0             1             0             0             0             0   \n",
       "1             0             1             0             0             0   \n",
       "\n",
       "   loan_grade_G  cb_person_default_on_file_N  cb_person_default_on_file_Y  \\\n",
       "0             0                            1                            0   \n",
       "1             0                            1                            0   \n",
       "\n",
       "   person_income_log  loan_amnt_log  \n",
       "0           9.169623       6.908755  \n",
       "1           9.169623       8.612685  \n",
       "\n",
       "[2 rows x 29 columns]"
      ]
     },
     "execution_count": 12,
     "metadata": {},
     "output_type": "execute_result"
    }
   ],
   "source": [
    "# Print the columns in the new data set\n",
    "cr_loan_prep.head(2)"
   ]
  },
  {
   "cell_type": "markdown",
   "id": "2abda2ea",
   "metadata": {},
   "source": [
    "## Split train, test and validation"
   ]
  },
  {
   "cell_type": "code",
   "execution_count": 13,
   "id": "243687d6",
   "metadata": {},
   "outputs": [],
   "source": [
    "# Create the X and y data sets\n",
    "X = cr_loan_prep.drop( 'loan_status', axis=1 )\n",
    "y = cr_loan_prep[['loan_status']]\n",
    "\n",
    "# spliting in train, test and validation datasets \n",
    "X_train, X_test, y_train, y_test = train_test_split(X, y, test_size=0.2, random_state=1)\n",
    "\n",
    "X_train, X_val, y_train, y_val = train_test_split(X_train, y_train, test_size=0.25, random_state=1) # 0.25 x 0.8 = 0.2\n",
    "\n"
   ]
  },
  {
   "cell_type": "code",
   "execution_count": 14,
   "id": "4bae95bf",
   "metadata": {},
   "outputs": [
    {
     "name": "stdout",
     "output_type": "stream",
     "text": [
      "X_train :17675, 60.00%\n",
      "X_test :5892, 20.00%\n",
      "X_validation :5892, 20.00%\n"
     ]
    }
   ],
   "source": [
    "print('X_train :{}, {:.2f}%'.format(X_train.shape[0],( X_train.shape[0]/X.shape[0])*100) )\n",
    "print('X_test :{}, {:.2f}%'.format(X_test.shape[0],( X_test.shape[0]/X.shape[0])*100) )\n",
    "print('X_validation :{}, {:.2f}%'.format(X_val.shape[0],( X_val.shape[0]/X.shape[0])*100) )\n"
   ]
  },
  {
   "cell_type": "code",
   "execution_count": 15,
   "id": "671a2870",
   "metadata": {},
   "outputs": [],
   "source": [
    "#concat Train dataset to transformation\n",
    "cr_loan_train = pd.concat( [X_train, y_train], axis=1 )"
   ]
  },
  {
   "cell_type": "code",
   "execution_count": 16,
   "id": "379bbfc5",
   "metadata": {},
   "outputs": [],
   "source": [
    "#Rescaling MinMaxScaler (non-normal distribuition)\n",
    "#person_age, person_emp_length, cb_person_cred_hist_length, loan_int_rate\n",
    "mm_person_age = MinMaxScaler()\n",
    "mm_person_emp_length = MinMaxScaler()\n",
    "mm_person_cred_hist_length =MinMaxScaler()\n",
    "mm_loan_int_rate = MinMaxScaler()\n",
    "\n"
   ]
  },
  {
   "cell_type": "code",
   "execution_count": 17,
   "id": "6888af20",
   "metadata": {},
   "outputs": [],
   "source": [
    "#person_age\n",
    "X_train['person_age'] = mm_person_age.fit_transform(X_train[['person_age']].values)\n",
    "\n",
    "#person_emp_length\n",
    "X_train['person_emp_length'] = mm_person_emp_length.fit_transform(X_train[['person_emp_length']].values)\n",
    "\n",
    "\n",
    "# cb_person_cred_hist_length\n",
    "X_train['cb_person_cred_hist_length'] = mm_person_cred_hist_length.fit_transform(X_train[['cb_person_cred_hist_length']].values)\n",
    "\n",
    "#loan_int_rate\n",
    "X_train['loan_int_rate'] = mm_loan_int_rate.fit_transform(X_train[['loan_int_rate']].values)\n",
    "\n"
   ]
  },
  {
   "cell_type": "code",
   "execution_count": 18,
   "id": "8af3a2d4",
   "metadata": {},
   "outputs": [
    {
     "data": {
      "text/html": [
       "<div>\n",
       "<style scoped>\n",
       "    .dataframe tbody tr th:only-of-type {\n",
       "        vertical-align: middle;\n",
       "    }\n",
       "\n",
       "    .dataframe tbody tr th {\n",
       "        vertical-align: top;\n",
       "    }\n",
       "\n",
       "    .dataframe thead th {\n",
       "        text-align: right;\n",
       "    }\n",
       "</style>\n",
       "<table border=\"1\" class=\"dataframe\">\n",
       "  <thead>\n",
       "    <tr style=\"text-align: right;\">\n",
       "      <th></th>\n",
       "      <th>person_age</th>\n",
       "      <th>person_income</th>\n",
       "      <th>person_emp_length</th>\n",
       "      <th>loan_amnt</th>\n",
       "      <th>loan_int_rate</th>\n",
       "      <th>loan_percent_income</th>\n",
       "      <th>cb_person_cred_hist_length</th>\n",
       "      <th>person_home_ownership_MORTGAGE</th>\n",
       "      <th>person_home_ownership_OTHER</th>\n",
       "      <th>person_home_ownership_OWN</th>\n",
       "      <th>...</th>\n",
       "      <th>loan_grade_B</th>\n",
       "      <th>loan_grade_C</th>\n",
       "      <th>loan_grade_D</th>\n",
       "      <th>loan_grade_E</th>\n",
       "      <th>loan_grade_F</th>\n",
       "      <th>loan_grade_G</th>\n",
       "      <th>cb_person_default_on_file_N</th>\n",
       "      <th>cb_person_default_on_file_Y</th>\n",
       "      <th>person_income_log</th>\n",
       "      <th>loan_amnt_log</th>\n",
       "    </tr>\n",
       "  </thead>\n",
       "  <tbody>\n",
       "    <tr>\n",
       "      <th>12185</th>\n",
       "      <td>0.046875</td>\n",
       "      <td>92000</td>\n",
       "      <td>0.048780</td>\n",
       "      <td>15000</td>\n",
       "      <td>0.252247</td>\n",
       "      <td>0.16</td>\n",
       "      <td>0.000000</td>\n",
       "      <td>1</td>\n",
       "      <td>0</td>\n",
       "      <td>0</td>\n",
       "      <td>...</td>\n",
       "      <td>1</td>\n",
       "      <td>0</td>\n",
       "      <td>0</td>\n",
       "      <td>0</td>\n",
       "      <td>0</td>\n",
       "      <td>0</td>\n",
       "      <td>1</td>\n",
       "      <td>0</td>\n",
       "      <td>11.429555</td>\n",
       "      <td>9.615872</td>\n",
       "    </tr>\n",
       "    <tr>\n",
       "      <th>24392</th>\n",
       "      <td>0.140625</td>\n",
       "      <td>120000</td>\n",
       "      <td>0.292683</td>\n",
       "      <td>12000</td>\n",
       "      <td>0.293820</td>\n",
       "      <td>0.10</td>\n",
       "      <td>0.250000</td>\n",
       "      <td>1</td>\n",
       "      <td>0</td>\n",
       "      <td>0</td>\n",
       "      <td>...</td>\n",
       "      <td>1</td>\n",
       "      <td>0</td>\n",
       "      <td>0</td>\n",
       "      <td>0</td>\n",
       "      <td>0</td>\n",
       "      <td>0</td>\n",
       "      <td>1</td>\n",
       "      <td>0</td>\n",
       "      <td>11.695255</td>\n",
       "      <td>9.392745</td>\n",
       "    </tr>\n",
       "    <tr>\n",
       "      <th>15264</th>\n",
       "      <td>0.046875</td>\n",
       "      <td>96000</td>\n",
       "      <td>0.170732</td>\n",
       "      <td>7300</td>\n",
       "      <td>0.172472</td>\n",
       "      <td>0.08</td>\n",
       "      <td>0.071429</td>\n",
       "      <td>0</td>\n",
       "      <td>0</td>\n",
       "      <td>0</td>\n",
       "      <td>...</td>\n",
       "      <td>0</td>\n",
       "      <td>0</td>\n",
       "      <td>0</td>\n",
       "      <td>0</td>\n",
       "      <td>0</td>\n",
       "      <td>0</td>\n",
       "      <td>1</td>\n",
       "      <td>0</td>\n",
       "      <td>11.472114</td>\n",
       "      <td>8.895767</td>\n",
       "    </tr>\n",
       "    <tr>\n",
       "      <th>8518</th>\n",
       "      <td>0.078125</td>\n",
       "      <td>70000</td>\n",
       "      <td>0.097561</td>\n",
       "      <td>8000</td>\n",
       "      <td>0.592135</td>\n",
       "      <td>0.11</td>\n",
       "      <td>0.035714</td>\n",
       "      <td>0</td>\n",
       "      <td>0</td>\n",
       "      <td>0</td>\n",
       "      <td>...</td>\n",
       "      <td>0</td>\n",
       "      <td>1</td>\n",
       "      <td>0</td>\n",
       "      <td>0</td>\n",
       "      <td>0</td>\n",
       "      <td>0</td>\n",
       "      <td>0</td>\n",
       "      <td>1</td>\n",
       "      <td>11.156265</td>\n",
       "      <td>8.987322</td>\n",
       "    </tr>\n",
       "    <tr>\n",
       "      <th>10274</th>\n",
       "      <td>0.078125</td>\n",
       "      <td>55016</td>\n",
       "      <td>0.000000</td>\n",
       "      <td>10000</td>\n",
       "      <td>0.434831</td>\n",
       "      <td>0.18</td>\n",
       "      <td>0.000000</td>\n",
       "      <td>0</td>\n",
       "      <td>0</td>\n",
       "      <td>0</td>\n",
       "      <td>...</td>\n",
       "      <td>0</td>\n",
       "      <td>1</td>\n",
       "      <td>0</td>\n",
       "      <td>0</td>\n",
       "      <td>0</td>\n",
       "      <td>0</td>\n",
       "      <td>0</td>\n",
       "      <td>1</td>\n",
       "      <td>10.915398</td>\n",
       "      <td>9.210440</td>\n",
       "    </tr>\n",
       "  </tbody>\n",
       "</table>\n",
       "<p>5 rows × 28 columns</p>\n",
       "</div>"
      ],
      "text/plain": [
       "       person_age  person_income  person_emp_length  loan_amnt  loan_int_rate  \\\n",
       "12185    0.046875          92000           0.048780      15000       0.252247   \n",
       "24392    0.140625         120000           0.292683      12000       0.293820   \n",
       "15264    0.046875          96000           0.170732       7300       0.172472   \n",
       "8518     0.078125          70000           0.097561       8000       0.592135   \n",
       "10274    0.078125          55016           0.000000      10000       0.434831   \n",
       "\n",
       "       loan_percent_income  cb_person_cred_hist_length  \\\n",
       "12185                 0.16                    0.000000   \n",
       "24392                 0.10                    0.250000   \n",
       "15264                 0.08                    0.071429   \n",
       "8518                  0.11                    0.035714   \n",
       "10274                 0.18                    0.000000   \n",
       "\n",
       "       person_home_ownership_MORTGAGE  person_home_ownership_OTHER  \\\n",
       "12185                               1                            0   \n",
       "24392                               1                            0   \n",
       "15264                               0                            0   \n",
       "8518                                0                            0   \n",
       "10274                               0                            0   \n",
       "\n",
       "       person_home_ownership_OWN  ...  loan_grade_B  loan_grade_C  \\\n",
       "12185                          0  ...             1             0   \n",
       "24392                          0  ...             1             0   \n",
       "15264                          0  ...             0             0   \n",
       "8518                           0  ...             0             1   \n",
       "10274                          0  ...             0             1   \n",
       "\n",
       "       loan_grade_D  loan_grade_E  loan_grade_F  loan_grade_G  \\\n",
       "12185             0             0             0             0   \n",
       "24392             0             0             0             0   \n",
       "15264             0             0             0             0   \n",
       "8518              0             0             0             0   \n",
       "10274             0             0             0             0   \n",
       "\n",
       "       cb_person_default_on_file_N  cb_person_default_on_file_Y  \\\n",
       "12185                            1                            0   \n",
       "24392                            1                            0   \n",
       "15264                            1                            0   \n",
       "8518                             0                            1   \n",
       "10274                            0                            1   \n",
       "\n",
       "       person_income_log  loan_amnt_log  \n",
       "12185          11.429555       9.615872  \n",
       "24392          11.695255       9.392745  \n",
       "15264          11.472114       8.895767  \n",
       "8518           11.156265       8.987322  \n",
       "10274          10.915398       9.210440  \n",
       "\n",
       "[5 rows x 28 columns]"
      ]
     },
     "execution_count": 18,
     "metadata": {},
     "output_type": "execute_result"
    }
   ],
   "source": [
    "X_train.head()"
   ]
  },
  {
   "cell_type": "code",
   "execution_count": 19,
   "id": "c6cd481c",
   "metadata": {},
   "outputs": [],
   "source": [
    "#Test and Validation Preparation\n",
    "# Test\n",
    "#person_age, person_emp_length, cb_person_cred_hist_length, loan_int_rate\n",
    "X_test['person_age'] = encoder_transform(mm_person_age, X_test,'person_age' )\n",
    "X_test['person_emp_length'] = encoder_transform(mm_person_emp_length, X_test,'person_emp_length' )\n",
    "X_test['cb_person_cred_hist_length'] = encoder_transform(mm_person_cred_hist_length, X_test,'cb_person_cred_hist_length' )\n",
    "X_test['loan_int_rate'] = encoder_transform(mm_loan_int_rate, X_test,'loan_int_rate' )\n",
    "\n",
    "\n",
    "# X_Validation\n",
    "X_val['person_age'] = encoder_transform(mm_person_age, X_val,'person_age' )\n",
    "X_val['person_emp_length'] = encoder_transform(mm_person_emp_length, X_val,'person_emp_length' )\n",
    "X_val['cb_person_cred_hist_length'] = encoder_transform(mm_person_cred_hist_length, X_val,'cb_person_cred_hist_length' )\n",
    "X_val['loan_int_rate'] = encoder_transform(mm_loan_int_rate, X_val,'loan_int_rate' )\n",
    "\n",
    "\n"
   ]
  },
  {
   "cell_type": "code",
   "execution_count": 20,
   "id": "cb02dffe",
   "metadata": {},
   "outputs": [
    {
     "data": {
      "text/plain": [
       "12185     92000.0\n",
       "24392    120000.0\n",
       "15264     96000.0\n",
       "8518      70000.0\n",
       "10274     55016.0\n",
       "           ...   \n",
       "18567     34300.0\n",
       "21650     67000.0\n",
       "28348     77000.0\n",
       "16546    105400.0\n",
       "13503     48000.0\n",
       "Name: person_income_log, Length: 17675, dtype: float64"
      ]
     },
     "execution_count": 20,
     "metadata": {},
     "output_type": "execute_result"
    }
   ],
   "source": [
    "# Inverse Transform\n",
    "mm_person_age.inverse_transform(X_train[['person_age']])\n",
    "\n",
    "np.expm1(X_train.person_income_log)"
   ]
  },
  {
   "cell_type": "markdown",
   "id": "0f4eaad4",
   "metadata": {},
   "source": [
    "### Feature Importance"
   ]
  },
  {
   "cell_type": "code",
   "execution_count": 21,
   "id": "8bd87c12",
   "metadata": {},
   "outputs": [
    {
     "data": {
      "image/png": "[encoded data removed]",
      "text/plain": [
       "<Figure size 432x288 with 1 Axes>"
      ]
     },
     "metadata": {
      "needs_background": "light"
     },
     "output_type": "display_data"
    }
   ],
   "source": [
    "X_train_shapiro = X_train\n",
    "y_train_shapiro= y_train\n",
    "#\n",
    "visualizer = Rank1D(algorithm='shapiro')\n",
    "\n",
    "visualizer.fit(X_train_shapiro, y_train_shapiro)           \n",
    "\n",
    "visualizer.transform(X_train_shapiro)        \n",
    "visualizer.show();"
   ]
  },
  {
   "cell_type": "code",
   "execution_count": 22,
   "id": "d71593dd",
   "metadata": {},
   "outputs": [
    {
     "data": {
      "text/html": [
       "<style>#sk-container-id-1 {color: black;background-color: white;}#sk-container-id-1 pre{padding: 0;}#sk-container-id-1 div.sk-toggleable {background-color: white;}#sk-container-id-1 label.sk-toggleable__label {cursor: pointer;display: block;width: 100%;margin-bottom: 0;padding: 0.3em;box-sizing: border-box;text-align: center;}#sk-container-id-1 label.sk-toggleable__label-arrow:before {content: \"▸\";float: left;margin-right: 0.25em;color: #696969;}#sk-container-id-1 label.sk-toggleable__label-arrow:hover:before {color: black;}#sk-container-id-1 div.sk-estimator:hover label.sk-toggleable__label-arrow:before {color: black;}#sk-container-id-1 div.sk-toggleable__content {max-height: 0;max-width: 0;overflow: hidden;text-align: left;background-color: #f0f8ff;}#sk-container-id-1 div.sk-toggleable__content pre {margin: 0.2em;color: black;border-radius: 0.25em;background-color: #f0f8ff;}#sk-container-id-1 input.sk-toggleable__control:checked~div.sk-toggleable__content {max-height: 200px;max-width: 100%;overflow: auto;}#sk-container-id-1 input.sk-toggleable__control:checked~label.sk-toggleable__label-arrow:before {content: \"▾\";}#sk-container-id-1 div.sk-estimator input.sk-toggleable__control:checked~label.sk-toggleable__label {background-color: #d4ebff;}#sk-container-id-1 div.sk-label input.sk-toggleable__control:checked~label.sk-toggleable__label {background-color: #d4ebff;}#sk-container-id-1 input.sk-hidden--visually {border: 0;clip: rect(1px 1px 1px 1px);clip: rect(1px, 1px, 1px, 1px);height: 1px;margin: -1px;overflow: hidden;padding: 0;position: absolute;width: 1px;}#sk-container-id-1 div.sk-estimator {font-family: monospace;background-color: #f0f8ff;border: 1px dotted black;border-radius: 0.25em;box-sizing: border-box;margin-bottom: 0.5em;}#sk-container-id-1 div.sk-estimator:hover {background-color: #d4ebff;}#sk-container-id-1 div.sk-parallel-item::after {content: \"\";width: 100%;border-bottom: 1px solid gray;flex-grow: 1;}#sk-container-id-1 div.sk-label:hover label.sk-toggleable__label {background-color: #d4ebff;}#sk-container-id-1 div.sk-serial::before {content: \"\";position: absolute;border-left: 1px solid gray;box-sizing: border-box;top: 0;bottom: 0;left: 50%;z-index: 0;}#sk-container-id-1 div.sk-serial {display: flex;flex-direction: column;align-items: center;background-color: white;padding-right: 0.2em;padding-left: 0.2em;position: relative;}#sk-container-id-1 div.sk-item {position: relative;z-index: 1;}#sk-container-id-1 div.sk-parallel {display: flex;align-items: stretch;justify-content: center;background-color: white;position: relative;}#sk-container-id-1 div.sk-item::before, #sk-container-id-1 div.sk-parallel-item::before {content: \"\";position: absolute;border-left: 1px solid gray;box-sizing: border-box;top: 0;bottom: 0;left: 50%;z-index: -1;}#sk-container-id-1 div.sk-parallel-item {display: flex;flex-direction: column;z-index: 1;position: relative;background-color: white;}#sk-container-id-1 div.sk-parallel-item:first-child::after {align-self: flex-end;width: 50%;}#sk-container-id-1 div.sk-parallel-item:last-child::after {align-self: flex-start;width: 50%;}#sk-container-id-1 div.sk-parallel-item:only-child::after {width: 0;}#sk-container-id-1 div.sk-dashed-wrapped {border: 1px dashed gray;margin: 0 0.4em 0.5em 0.4em;box-sizing: border-box;padding-bottom: 0.4em;background-color: white;}#sk-container-id-1 div.sk-label label {font-family: monospace;font-weight: bold;display: inline-block;line-height: 1.2em;}#sk-container-id-1 div.sk-label-container {text-align: center;}#sk-container-id-1 div.sk-container {/* jupyter's `normalize.less` sets `[hidden] { display: none; }` but bootstrap.min.css set `[hidden] { display: none !important; }` so we also need the `!important` here to be able to override the default hidden behavior on the sphinx rendered scikit-learn.org. See: https://github.com/scikit-learn/scikit-learn/issues/21755 */display: inline-block !important;position: relative;}#sk-container-id-1 div.sk-text-repr-fallback {display: none;}</style><div id=\"sk-container-id-1\" class=\"sk-top-container\"><div class=\"sk-text-repr-fallback\"><pre>ExtraTreesClassifier(n_estimators=250, n_jobs=-1, random_state=0)</pre><b>In a Jupyter environment, please rerun this cell to show the HTML representation or trust the notebook. <br />On GitHub, the HTML representation is unable to render, please try loading this page with nbviewer.org.</b></div><div class=\"sk-container\" hidden><div class=\"sk-item\"><div class=\"sk-estimator sk-toggleable\"><input class=\"sk-toggleable__control sk-hidden--visually\" id=\"sk-estimator-id-1\" type=\"checkbox\" checked><label for=\"sk-estimator-id-1\" class=\"sk-toggleable__label sk-toggleable__label-arrow\">ExtraTreesClassifier</label><div class=\"sk-toggleable__content\"><pre>ExtraTreesClassifier(n_estimators=250, n_jobs=-1, random_state=0)</pre></div></div></div></div></div>"
      ],
      "text/plain": [
       "ExtraTreesClassifier(n_estimators=250, n_jobs=-1, random_state=0)"
      ]
     },
     "execution_count": 22,
     "metadata": {},
     "output_type": "execute_result"
    }
   ],
   "source": [
    "# model definition\n",
    "forest = en.ExtraTreesClassifier( n_estimators=250, random_state=0, n_jobs=-1 )\n",
    "\n",
    "# data preparation\n",
    "x_train_n = X_train.drop(['person_income_log', 'loan_amnt_log'], axis=1)\n",
    "y_train_n = y_train.values\n",
    "forest.fit( x_train_n, y_train_n )"
   ]
  },
  {
   "cell_type": "code",
   "execution_count": 23,
   "id": "34daea88",
   "metadata": {},
   "outputs": [
    {
     "name": "stdout",
     "output_type": "stream",
     "text": [
      "feature ranking\n",
      "                          feature  importance\n",
      "0             loan_percent_income    0.213782\n",
      "0                   person_income    0.106556\n",
      "0                   loan_int_rate    0.086674\n",
      "0                       loan_amnt    0.085571\n",
      "0               person_emp_length    0.074210\n",
      "0                    loan_grade_D    0.072506\n",
      "0                      person_age    0.062167\n",
      "0      cb_person_cred_hist_length    0.053854\n",
      "0      person_home_ownership_RENT    0.039704\n",
      "0                    loan_grade_C    0.023368\n",
      "0   loan_intent_DEBTCONSOLIDATION    0.021996\n",
      "0                    loan_grade_E    0.021525\n",
      "0             loan_intent_MEDICAL    0.019585\n",
      "0  person_home_ownership_MORTGAGE    0.018452\n",
      "0       person_home_ownership_OWN    0.013085\n",
      "0                    loan_grade_A    0.012340\n",
      "0           loan_intent_EDUCATION    0.011271\n",
      "0     loan_intent_HOMEIMPROVEMENT    0.010499\n",
      "0     cb_person_default_on_file_N    0.009233\n",
      "0             loan_intent_VENTURE    0.008886\n",
      "0            loan_intent_PERSONAL    0.008837\n",
      "0                    loan_grade_B    0.008382\n",
      "0     cb_person_default_on_file_Y    0.007828\n",
      "0                    loan_grade_F    0.005377\n",
      "0                    loan_grade_G    0.003239\n",
      "0     person_home_ownership_OTHER    0.001074\n"
     ]
    },
    {
     "data": {
      "image/png": "[encoded data removed]",
      "text/plain": [
       "<Figure size 432x288 with 1 Axes>"
      ]
     },
     "metadata": {
      "needs_background": "light"
     },
     "output_type": "display_data"
    }
   ],
   "source": [
    "importances = forest.feature_importances_\n",
    "indices = np.argsort( importances )[::-1]\n",
    "\n",
    "print( 'feature ranking')\n",
    "df = pd.DataFrame()\n",
    "\n",
    "for i, j in zip( x_train_n, forest.feature_importances_ ):\n",
    "    aux = pd.DataFrame( {'feature': i, 'importance': j}, index=[0] )\n",
    "    df = pd.concat( [df, aux], axis=0 )\n",
    "    \n",
    "print( df.sort_values( 'importance', ascending=False ) )\n",
    "\n",
    "# Plot the impurity-based feature importances of the forest\n",
    "plt.figure()\n",
    "plt.title(\"Feature importances\")\n",
    "plt.bar(range(x_train_n.shape[1]), importances[indices], color=\"r\", align=\"center\")\n",
    "plt.xticks(range(x_train_n.shape[1]), indices)\n",
    "plt.xlim([-1, x_train_n.shape[1]])\n",
    "plt.show()"
   ]
  },
  {
   "cell_type": "code",
   "execution_count": 24,
   "id": "228a3f7b",
   "metadata": {},
   "outputs": [
    {
     "data": {
      "text/html": [
       "<div>\n",
       "<style scoped>\n",
       "    .dataframe tbody tr th:only-of-type {\n",
       "        vertical-align: middle;\n",
       "    }\n",
       "\n",
       "    .dataframe tbody tr th {\n",
       "        vertical-align: top;\n",
       "    }\n",
       "\n",
       "    .dataframe thead th {\n",
       "        text-align: right;\n",
       "    }\n",
       "</style>\n",
       "<table border=\"1\" class=\"dataframe\">\n",
       "  <thead>\n",
       "    <tr style=\"text-align: right;\">\n",
       "      <th></th>\n",
       "      <th>feature</th>\n",
       "      <th>importance</th>\n",
       "    </tr>\n",
       "  </thead>\n",
       "  <tbody>\n",
       "    <tr>\n",
       "      <th>0</th>\n",
       "      <td>loan_percent_income</td>\n",
       "      <td>0.213782</td>\n",
       "    </tr>\n",
       "    <tr>\n",
       "      <th>0</th>\n",
       "      <td>person_income</td>\n",
       "      <td>0.106556</td>\n",
       "    </tr>\n",
       "    <tr>\n",
       "      <th>0</th>\n",
       "      <td>loan_int_rate</td>\n",
       "      <td>0.086674</td>\n",
       "    </tr>\n",
       "    <tr>\n",
       "      <th>0</th>\n",
       "      <td>loan_amnt</td>\n",
       "      <td>0.085571</td>\n",
       "    </tr>\n",
       "    <tr>\n",
       "      <th>0</th>\n",
       "      <td>person_emp_length</td>\n",
       "      <td>0.074210</td>\n",
       "    </tr>\n",
       "    <tr>\n",
       "      <th>0</th>\n",
       "      <td>loan_grade_D</td>\n",
       "      <td>0.072506</td>\n",
       "    </tr>\n",
       "    <tr>\n",
       "      <th>0</th>\n",
       "      <td>person_age</td>\n",
       "      <td>0.062167</td>\n",
       "    </tr>\n",
       "    <tr>\n",
       "      <th>0</th>\n",
       "      <td>cb_person_cred_hist_length</td>\n",
       "      <td>0.053854</td>\n",
       "    </tr>\n",
       "    <tr>\n",
       "      <th>0</th>\n",
       "      <td>person_home_ownership_RENT</td>\n",
       "      <td>0.039704</td>\n",
       "    </tr>\n",
       "    <tr>\n",
       "      <th>0</th>\n",
       "      <td>loan_grade_C</td>\n",
       "      <td>0.023368</td>\n",
       "    </tr>\n",
       "    <tr>\n",
       "      <th>0</th>\n",
       "      <td>loan_intent_DEBTCONSOLIDATION</td>\n",
       "      <td>0.021996</td>\n",
       "    </tr>\n",
       "    <tr>\n",
       "      <th>0</th>\n",
       "      <td>loan_grade_E</td>\n",
       "      <td>0.021525</td>\n",
       "    </tr>\n",
       "  </tbody>\n",
       "</table>\n",
       "</div>"
      ],
      "text/plain": [
       "                         feature  importance\n",
       "0            loan_percent_income    0.213782\n",
       "0                  person_income    0.106556\n",
       "0                  loan_int_rate    0.086674\n",
       "0                      loan_amnt    0.085571\n",
       "0              person_emp_length    0.074210\n",
       "0                   loan_grade_D    0.072506\n",
       "0                     person_age    0.062167\n",
       "0     cb_person_cred_hist_length    0.053854\n",
       "0     person_home_ownership_RENT    0.039704\n",
       "0                   loan_grade_C    0.023368\n",
       "0  loan_intent_DEBTCONSOLIDATION    0.021996\n",
       "0                   loan_grade_E    0.021525"
      ]
     },
     "execution_count": 24,
     "metadata": {},
     "output_type": "execute_result"
    }
   ],
   "source": [
    "aux = df.sort_values( 'importance', ascending=False )\n",
    "\n",
    "sel_columns = aux[aux['importance'] >= 0.02]['feature'].values\n",
    "aux[aux['importance'] >= 0.02]"
   ]
  },
  {
   "cell_type": "markdown",
   "id": "13573186",
   "metadata": {},
   "source": [
    "# Machine Learning"
   ]
  },
  {
   "cell_type": "code",
   "execution_count": 25,
   "id": "bf817862",
   "metadata": {},
   "outputs": [
    {
     "data": {
      "text/plain": [
       "array(['loan_percent_income', 'loan_int_rate', 'person_emp_length',\n",
       "       'loan_grade_D', 'person_age', 'cb_person_cred_hist_length',\n",
       "       'person_home_ownership_RENT', 'loan_grade_C',\n",
       "       'loan_intent_DEBTCONSOLIDATION', 'loan_grade_E',\n",
       "       'person_income_log', 'person_income_log'], dtype=object)"
      ]
     },
     "execution_count": 25,
     "metadata": {},
     "output_type": "execute_result"
    }
   ],
   "source": [
    "#remove(['person_income_log', 'loan_amnt_log'])\n",
    "indices = np.where((sel_columns =='person_income')  | (sel_columns =='loan_amnt'))[0]\n",
    "sel = np.delete(sel_columns, indices)\n",
    "\n",
    "a1 =np.append(sel,'person_income_log')\n",
    "sel_columns_require_normalization = np.append(a1,'person_income_log')\n",
    "sel_columns_require_normalization"
   ]
  },
  {
   "cell_type": "code",
   "execution_count": null,
   "id": "d74ba764",
   "metadata": {},
   "outputs": [],
   "source": []
  },
  {
   "cell_type": "markdown",
   "id": "aa6f65a6",
   "metadata": {},
   "source": [
    "## Logistic regression"
   ]
  },
  {
   "cell_type": "code",
   "execution_count": 26,
   "id": "cc89f8f2",
   "metadata": {},
   "outputs": [
    {
     "name": "stdout",
     "output_type": "stream",
     "text": [
      "{'C': 1.0, 'class_weight': None, 'dual': False, 'fit_intercept': True, 'intercept_scaling': 1, 'l1_ratio': None, 'max_iter': 100, 'multi_class': 'auto', 'n_jobs': None, 'penalty': 'l2', 'random_state': None, 'solver': 'lbfgs', 'tol': 0.0001, 'verbose': 0, 'warm_start': False}\n",
      "[5.61193829]\n"
     ]
    },
    {
     "data": {
      "text/plain": [
       "array([[ 7.1182491 ,  3.39131526,  0.15150959,  1.49391931, -0.37582629,\n",
       "         0.4228973 ,  0.99809372, -0.31412514,  0.64549977,  1.46639058,\n",
       "        -0.48414388, -0.48414388]])"
      ]
     },
     "execution_count": 26,
     "metadata": {},
     "output_type": "execute_result"
    }
   ],
   "source": [
    "# Create and fit the logistic regression model\n",
    "clf_logistic = LogisticRegression(solver='lbfgs').fit(X_train[sel_columns_require_normalization], np.ravel(y_train))\n",
    "\n",
    "\n",
    "# Print the parameters of the model\n",
    "print(clf_logistic.get_params())\n",
    "\n",
    "# The intercept of the model\n",
    "print(clf_logistic.intercept_)\n",
    "\n",
    "# Probablitity to default - coefficients\n",
    "clf_logistic.coef_"
   ]
  },
  {
   "cell_type": "code",
   "execution_count": 27,
   "id": "9079c3fd",
   "metadata": {},
   "outputs": [
    {
     "data": {
      "text/html": [
       "<div>\n",
       "<style scoped>\n",
       "    .dataframe tbody tr th:only-of-type {\n",
       "        vertical-align: middle;\n",
       "    }\n",
       "\n",
       "    .dataframe tbody tr th {\n",
       "        vertical-align: top;\n",
       "    }\n",
       "\n",
       "    .dataframe thead th {\n",
       "        text-align: right;\n",
       "    }\n",
       "</style>\n",
       "<table border=\"1\" class=\"dataframe\">\n",
       "  <thead>\n",
       "    <tr style=\"text-align: right;\">\n",
       "      <th></th>\n",
       "      <th>loan_status</th>\n",
       "      <th>prob_default</th>\n",
       "      <th>pred_loan_status</th>\n",
       "    </tr>\n",
       "  </thead>\n",
       "  <tbody>\n",
       "    <tr>\n",
       "      <th>0</th>\n",
       "      <td>0</td>\n",
       "      <td>0.049436</td>\n",
       "      <td>0</td>\n",
       "    </tr>\n",
       "    <tr>\n",
       "      <th>1</th>\n",
       "      <td>1</td>\n",
       "      <td>0.970195</td>\n",
       "      <td>1</td>\n",
       "    </tr>\n",
       "    <tr>\n",
       "      <th>2</th>\n",
       "      <td>1</td>\n",
       "      <td>0.395455</td>\n",
       "      <td>0</td>\n",
       "    </tr>\n",
       "    <tr>\n",
       "      <th>3</th>\n",
       "      <td>0</td>\n",
       "      <td>0.169721</td>\n",
       "      <td>0</td>\n",
       "    </tr>\n",
       "    <tr>\n",
       "      <th>4</th>\n",
       "      <td>1</td>\n",
       "      <td>0.932632</td>\n",
       "      <td>1</td>\n",
       "    </tr>\n",
       "    <tr>\n",
       "      <th>...</th>\n",
       "      <td>...</td>\n",
       "      <td>...</td>\n",
       "      <td>...</td>\n",
       "    </tr>\n",
       "    <tr>\n",
       "      <th>5887</th>\n",
       "      <td>0</td>\n",
       "      <td>0.080028</td>\n",
       "      <td>0</td>\n",
       "    </tr>\n",
       "    <tr>\n",
       "      <th>5888</th>\n",
       "      <td>0</td>\n",
       "      <td>0.012456</td>\n",
       "      <td>0</td>\n",
       "    </tr>\n",
       "    <tr>\n",
       "      <th>5889</th>\n",
       "      <td>1</td>\n",
       "      <td>0.909135</td>\n",
       "      <td>1</td>\n",
       "    </tr>\n",
       "    <tr>\n",
       "      <th>5890</th>\n",
       "      <td>0</td>\n",
       "      <td>0.069368</td>\n",
       "      <td>0</td>\n",
       "    </tr>\n",
       "    <tr>\n",
       "      <th>5891</th>\n",
       "      <td>1</td>\n",
       "      <td>0.441011</td>\n",
       "      <td>0</td>\n",
       "    </tr>\n",
       "  </tbody>\n",
       "</table>\n",
       "<p>5892 rows × 3 columns</p>\n",
       "</div>"
      ],
      "text/plain": [
       "      loan_status  prob_default  pred_loan_status\n",
       "0               0      0.049436                 0\n",
       "1               1      0.970195                 1\n",
       "2               1      0.395455                 0\n",
       "3               0      0.169721                 0\n",
       "4               1      0.932632                 1\n",
       "...           ...           ...               ...\n",
       "5887            0      0.080028                 0\n",
       "5888            0      0.012456                 0\n",
       "5889            1      0.909135                 1\n",
       "5890            0      0.069368                 0\n",
       "5891            1      0.441011                 0\n",
       "\n",
       "[5892 rows x 3 columns]"
      ]
     },
     "execution_count": 27,
     "metadata": {},
     "output_type": "execute_result"
    }
   ],
   "source": [
    "preds = clf_logistic.predict_proba(X_test[sel_columns_require_normalization])\n",
    "\n",
    "# Create dataframes of first five predictions, and first five true labels\n",
    "preds_df = pd.DataFrame(preds[:,1], columns = ['prob_default'])\n",
    "\n",
    "#Therehold 0.5\n",
    "preds_df['pred_loan_status'] = preds_df['prob_default'].apply(lambda x: 1 if x > 0.5 else 0)\n",
    "\n",
    "pd.concat([y_test.reset_index(drop = True), preds_df], axis = 1)"
   ]
  },
  {
   "cell_type": "code",
   "execution_count": 28,
   "id": "2f5e1a98",
   "metadata": {},
   "outputs": [
    {
     "data": {
      "text/plain": [
       "0    4982\n",
       "1     910\n",
       "Name: pred_loan_status, dtype: int64"
      ]
     },
     "execution_count": 28,
     "metadata": {},
     "output_type": "execute_result"
    }
   ],
   "source": [
    "preds_df['pred_loan_status'].value_counts()"
   ]
  },
  {
   "cell_type": "code",
   "execution_count": 29,
   "id": "5ac27fdb",
   "metadata": {},
   "outputs": [
    {
     "data": {
      "text/plain": [
       "0.86"
      ]
     },
     "execution_count": 29,
     "metadata": {},
     "output_type": "execute_result"
    }
   ],
   "source": [
    "# Check the accuracy against the test data\n",
    "round(clf_logistic.score(X_test[sel_columns_require_normalization],y_test), 2)"
   ]
  },
  {
   "cell_type": "code",
   "execution_count": 30,
   "id": "e3e96ce1",
   "metadata": {},
   "outputs": [
    {
     "name": "stdout",
     "output_type": "stream",
     "text": [
      "[[4354  205]\n",
      " [ 628  705]]\n"
     ]
    },
    {
     "data": {
      "image/png": "[encoded data removed]",
      "text/plain": [
       "<Figure size 432x288 with 2 Axes>"
      ]
     },
     "metadata": {
      "needs_background": "light"
     },
     "output_type": "display_data"
    }
   ],
   "source": [
    "# Print the confusion matrix\n",
    "print(confusion_matrix(y_test,preds_df['pred_loan_status']))\n",
    "sns.heatmap(confusion_matrix(y_test,preds_df['pred_loan_status']), annot=True, fmt=\".0f\");"
   ]
  },
  {
   "cell_type": "code",
   "execution_count": 31,
   "id": "9740e3ca",
   "metadata": {},
   "outputs": [
    {
     "name": "stdout",
     "output_type": "stream",
     "text": [
      "              precision    recall  f1-score   support\n",
      "\n",
      " Non-Default       0.87      0.96      0.91      4559\n",
      "     Default       0.77      0.53      0.63      1333\n",
      "\n",
      "    accuracy                           0.86      5892\n",
      "   macro avg       0.82      0.74      0.77      5892\n",
      "weighted avg       0.85      0.86      0.85      5892\n",
      "\n"
     ]
    }
   ],
   "source": [
    "# Print the classification report\n",
    "target_names = ['Non-Default', 'Default']\n",
    "\n",
    "print(classification_report(y_test, preds_df['pred_loan_status'], target_names=target_names) )"
   ]
  },
  {
   "cell_type": "code",
   "execution_count": 32,
   "id": "4cca13b6",
   "metadata": {},
   "outputs": [
    {
     "name": "stdout",
     "output_type": "stream",
     "text": [
      "(array([0.87394621, 0.77472527]), array([0.955034  , 0.52888222]), array([0.91269259, 0.62862238]), array([4559, 1333], dtype=int64))\n"
     ]
    }
   ],
   "source": [
    "# Only Precision, Recall and F1 score\n",
    "print(precision_recall_fscore_support(y_test,preds_df['pred_loan_status']))"
   ]
  },
  {
   "cell_type": "code",
   "execution_count": 33,
   "id": "82b565a5",
   "metadata": {},
   "outputs": [
    {
     "name": "stdout",
     "output_type": "stream",
     "text": [
      "1.18 ms ± 18 µs per loop (mean ± std. dev. of 7 runs, 100 loops each)\n"
     ]
    }
   ],
   "source": [
    "%%timeit\n",
    "precision_recall_f1 = precision_recall_fscore_support(y_test,preds_df['pred_loan_status'])\n",
    "precision_default = precision_recall_f1[0][1]\n",
    "recall_default = precision_recall_f1[1][1]\n",
    "f1_default = precision_recall_f1[2][1]"
   ]
  },
  {
   "cell_type": "code",
   "execution_count": 75,
   "id": "6510c8a9",
   "metadata": {},
   "outputs": [
    {
     "name": "stdout",
     "output_type": "stream",
     "text": [
      "288 ms ± 44.8 ms per loop (mean ± std. dev. of 7 runs, 1 loop each)\n"
     ]
    }
   ],
   "source": [
    "%%timeit \n",
    "lr_result = cross_validation(3,clf_logistic, 'Logistic Regression', X_train, y_train, False)\n",
    "lr_result"
   ]
  },
  {
   "cell_type": "code",
   "execution_count": 76,
   "id": "8e940643",
   "metadata": {},
   "outputs": [],
   "source": [
    "lr_result = cross_validation(3,clf_logistic, 'Logistic Regression', X_train, y_train, False)\n"
   ]
  },
  {
   "cell_type": "code",
   "execution_count": 36,
   "id": "6a2360ce",
   "metadata": {},
   "outputs": [],
   "source": [
    "def cross_using_scikit(name, model,X_train, y_train,cv=5 ):\n",
    "\n",
    "    np.random.seed(42)\n",
    "\n",
    "    precision= np.mean(cross_val_score(model, X_train, y_train,cv= cv ,scoring='precision' )).round(3)\n",
    "    std_prec = np.std(cross_val_score(model, X_train, y_train,cv= cv ,scoring='precision' )).round(3)\n",
    "\n",
    "    recall = np.mean(cross_val_score(model, X_train, y_train,cv= cv ,scoring='recall' )).round(3)\n",
    "    std_recall = np.std(cross_val_score(model, X_train, y_train,cv= cv ,scoring='recall' )).round(3)\n",
    "\n",
    "\n",
    "    f1 = np.mean(cross_val_score(model, X_train, y_train,cv= cv ,scoring='f1' )).round(3)\n",
    "    std_f1 = np.std(cross_val_score(model, X_train, y_train,cv= cv ,scoring='f1' )).round(3)\n",
    "\n",
    "    model_dict = {'name': name, 'PRECISION': precision, '+-_prec': std_prec, 'RECALL': recall, '+-': std_recall, 'F1': f1, '+- f1': std_f1}\n",
    "    df = pd.DataFrame(model_dict.values()).T\n",
    "    df.columns = list(model_dict.keys())\n",
    "\n",
    "    return df\n",
    "\n"
   ]
  },
  {
   "cell_type": "code",
   "execution_count": 37,
   "id": "a7eba809",
   "metadata": {},
   "outputs": [
    {
     "name": "stdout",
     "output_type": "stream",
     "text": [
      "895 ms ± 68.9 ms per loop (mean ± std. dev. of 7 runs, 1 loop each)\n"
     ]
    }
   ],
   "source": [
    "%%timeit\n",
    "df = cross_using_scikit('logistic', clf_logistic,X_train, y_train)"
   ]
  },
  {
   "cell_type": "code",
   "execution_count": 38,
   "id": "41de9c7f",
   "metadata": {},
   "outputs": [
    {
     "data": {
      "text/html": [
       "<div>\n",
       "<style scoped>\n",
       "    .dataframe tbody tr th:only-of-type {\n",
       "        vertical-align: middle;\n",
       "    }\n",
       "\n",
       "    .dataframe tbody tr th {\n",
       "        vertical-align: top;\n",
       "    }\n",
       "\n",
       "    .dataframe thead th {\n",
       "        text-align: right;\n",
       "    }\n",
       "</style>\n",
       "<table border=\"1\" class=\"dataframe\">\n",
       "  <thead>\n",
       "    <tr style=\"text-align: right;\">\n",
       "      <th></th>\n",
       "      <th>feature</th>\n",
       "      <th>importance</th>\n",
       "    </tr>\n",
       "  </thead>\n",
       "  <tbody>\n",
       "    <tr>\n",
       "      <th>0</th>\n",
       "      <td>person_age</td>\n",
       "      <td>0.062167</td>\n",
       "    </tr>\n",
       "    <tr>\n",
       "      <th>0</th>\n",
       "      <td>person_income</td>\n",
       "      <td>0.106556</td>\n",
       "    </tr>\n",
       "    <tr>\n",
       "      <th>0</th>\n",
       "      <td>person_emp_length</td>\n",
       "      <td>0.074210</td>\n",
       "    </tr>\n",
       "    <tr>\n",
       "      <th>0</th>\n",
       "      <td>loan_amnt</td>\n",
       "      <td>0.085571</td>\n",
       "    </tr>\n",
       "    <tr>\n",
       "      <th>0</th>\n",
       "      <td>loan_int_rate</td>\n",
       "      <td>0.086674</td>\n",
       "    </tr>\n",
       "    <tr>\n",
       "      <th>0</th>\n",
       "      <td>loan_percent_income</td>\n",
       "      <td>0.213782</td>\n",
       "    </tr>\n",
       "    <tr>\n",
       "      <th>0</th>\n",
       "      <td>cb_person_cred_hist_length</td>\n",
       "      <td>0.053854</td>\n",
       "    </tr>\n",
       "    <tr>\n",
       "      <th>0</th>\n",
       "      <td>person_home_ownership_MORTGAGE</td>\n",
       "      <td>0.018452</td>\n",
       "    </tr>\n",
       "    <tr>\n",
       "      <th>0</th>\n",
       "      <td>person_home_ownership_OTHER</td>\n",
       "      <td>0.001074</td>\n",
       "    </tr>\n",
       "    <tr>\n",
       "      <th>0</th>\n",
       "      <td>person_home_ownership_OWN</td>\n",
       "      <td>0.013085</td>\n",
       "    </tr>\n",
       "    <tr>\n",
       "      <th>0</th>\n",
       "      <td>person_home_ownership_RENT</td>\n",
       "      <td>0.039704</td>\n",
       "    </tr>\n",
       "    <tr>\n",
       "      <th>0</th>\n",
       "      <td>loan_intent_DEBTCONSOLIDATION</td>\n",
       "      <td>0.021996</td>\n",
       "    </tr>\n",
       "    <tr>\n",
       "      <th>0</th>\n",
       "      <td>loan_intent_EDUCATION</td>\n",
       "      <td>0.011271</td>\n",
       "    </tr>\n",
       "    <tr>\n",
       "      <th>0</th>\n",
       "      <td>loan_intent_HOMEIMPROVEMENT</td>\n",
       "      <td>0.010499</td>\n",
       "    </tr>\n",
       "    <tr>\n",
       "      <th>0</th>\n",
       "      <td>loan_intent_MEDICAL</td>\n",
       "      <td>0.019585</td>\n",
       "    </tr>\n",
       "    <tr>\n",
       "      <th>0</th>\n",
       "      <td>loan_intent_PERSONAL</td>\n",
       "      <td>0.008837</td>\n",
       "    </tr>\n",
       "    <tr>\n",
       "      <th>0</th>\n",
       "      <td>loan_intent_VENTURE</td>\n",
       "      <td>0.008886</td>\n",
       "    </tr>\n",
       "    <tr>\n",
       "      <th>0</th>\n",
       "      <td>loan_grade_A</td>\n",
       "      <td>0.012340</td>\n",
       "    </tr>\n",
       "    <tr>\n",
       "      <th>0</th>\n",
       "      <td>loan_grade_B</td>\n",
       "      <td>0.008382</td>\n",
       "    </tr>\n",
       "    <tr>\n",
       "      <th>0</th>\n",
       "      <td>loan_grade_C</td>\n",
       "      <td>0.023368</td>\n",
       "    </tr>\n",
       "    <tr>\n",
       "      <th>0</th>\n",
       "      <td>loan_grade_D</td>\n",
       "      <td>0.072506</td>\n",
       "    </tr>\n",
       "    <tr>\n",
       "      <th>0</th>\n",
       "      <td>loan_grade_E</td>\n",
       "      <td>0.021525</td>\n",
       "    </tr>\n",
       "    <tr>\n",
       "      <th>0</th>\n",
       "      <td>loan_grade_F</td>\n",
       "      <td>0.005377</td>\n",
       "    </tr>\n",
       "    <tr>\n",
       "      <th>0</th>\n",
       "      <td>loan_grade_G</td>\n",
       "      <td>0.003239</td>\n",
       "    </tr>\n",
       "    <tr>\n",
       "      <th>0</th>\n",
       "      <td>cb_person_default_on_file_N</td>\n",
       "      <td>0.009233</td>\n",
       "    </tr>\n",
       "    <tr>\n",
       "      <th>0</th>\n",
       "      <td>cb_person_default_on_file_Y</td>\n",
       "      <td>0.007828</td>\n",
       "    </tr>\n",
       "  </tbody>\n",
       "</table>\n",
       "</div>"
      ],
      "text/plain": [
       "                          feature  importance\n",
       "0                      person_age    0.062167\n",
       "0                   person_income    0.106556\n",
       "0               person_emp_length    0.074210\n",
       "0                       loan_amnt    0.085571\n",
       "0                   loan_int_rate    0.086674\n",
       "0             loan_percent_income    0.213782\n",
       "0      cb_person_cred_hist_length    0.053854\n",
       "0  person_home_ownership_MORTGAGE    0.018452\n",
       "0     person_home_ownership_OTHER    0.001074\n",
       "0       person_home_ownership_OWN    0.013085\n",
       "0      person_home_ownership_RENT    0.039704\n",
       "0   loan_intent_DEBTCONSOLIDATION    0.021996\n",
       "0           loan_intent_EDUCATION    0.011271\n",
       "0     loan_intent_HOMEIMPROVEMENT    0.010499\n",
       "0             loan_intent_MEDICAL    0.019585\n",
       "0            loan_intent_PERSONAL    0.008837\n",
       "0             loan_intent_VENTURE    0.008886\n",
       "0                    loan_grade_A    0.012340\n",
       "0                    loan_grade_B    0.008382\n",
       "0                    loan_grade_C    0.023368\n",
       "0                    loan_grade_D    0.072506\n",
       "0                    loan_grade_E    0.021525\n",
       "0                    loan_grade_F    0.005377\n",
       "0                    loan_grade_G    0.003239\n",
       "0     cb_person_default_on_file_N    0.009233\n",
       "0     cb_person_default_on_file_Y    0.007828"
      ]
     },
     "execution_count": 38,
     "metadata": {},
     "output_type": "execute_result"
    }
   ],
   "source": [
    "df"
   ]
  },
  {
   "cell_type": "code",
   "execution_count": 39,
   "id": "ea70ac73",
   "metadata": {},
   "outputs": [
    {
     "name": "stdout",
     "output_type": "stream",
     "text": [
      "295 ms ± 30.3 ms per loop (mean ± std. dev. of 7 runs, 1 loop each)\n"
     ]
    }
   ],
   "source": [
    "%%timeit\n",
    "\n",
    "#Evaluating with cross_val_sore from scikit-learning)\n",
    "np.random.seed(42)\n",
    "np.mean(cross_val_score(clf_logistic, X_train, y_train,cv=5 ,scoring='precision' ))\n",
    "\n",
    "np.std(cross_val_score(clf_logistic, X_train, y_train,cv=5 ,scoring='precision' ))"
   ]
  },
  {
   "cell_type": "code",
   "execution_count": 40,
   "id": "aa9cab71",
   "metadata": {},
   "outputs": [
    {
     "name": "stdout",
     "output_type": "stream",
     "text": [
      "average recall cross validation:  0.137\n",
      "standart deviation:  0.03\n"
     ]
    }
   ],
   "source": [
    "np.random.seed(42)\n",
    "\n",
    "print('average recall cross validation: ',np.mean(cross_val_score(clf_logistic, X_train, y_train,cv=5 ,scoring='recall' )).round(3) )\n",
    "\n",
    "print('standart deviation: ', round(np.std(cross_val_score(clf_logistic, X_train, y_train,cv=5 ,scoring='recall' )), 3))"
   ]
  },
  {
   "cell_type": "code",
   "execution_count": 41,
   "id": "0ab082f5",
   "metadata": {},
   "outputs": [
    {
     "data": {
      "image/png": "[encoded data removed]",
      "text/plain": [
       "<Figure size 432x288 with 1 Axes>"
      ]
     },
     "metadata": {
      "needs_background": "light"
     },
     "output_type": "display_data"
    },
    {
     "data": {
      "text/plain": [
       "0.8704109016944958"
      ]
     },
     "execution_count": 41,
     "metadata": {},
     "output_type": "execute_result"
    }
   ],
   "source": [
    "# Plot the ROC curve of the probabilities of default\n",
    "prob_default = preds[:, 1]\n",
    "fallout, sensitivity, thresholds = roc_curve(y_test, prob_default)\n",
    "plt.plot(fallout, sensitivity, color = 'darkorange')\n",
    "plt.plot([0, 1], [0, 1], linestyle='--')\n",
    "plt.show()\n",
    "\n",
    "# Compute the AUC and store it in a variable\n",
    "auc = roc_auc_score(y_test, prob_default)\n",
    "auc"
   ]
  },
  {
   "cell_type": "code",
   "execution_count": 42,
   "id": "215ddb49",
   "metadata": {},
   "outputs": [
    {
     "name": "stdout",
     "output_type": "stream",
     "text": [
      "Estimated Loss impact: $ 4108653.96\n"
     ]
    }
   ],
   "source": [
    "#Average loan amount\n",
    "avg_loan_amnt = round(cr_loan_prep.loan_amnt.mean(), 2)\n",
    "\n",
    "# Store the number of loan defaults from the prediction data\n",
    "num_defaults = preds_df['pred_loan_status'].value_counts()[1]\n",
    "nondef_recalls = preds_df['pred_loan_status'].value_counts()[0]\n",
    "\n",
    "# Store the default recall from the classification report\n",
    "default_recall = precision_recall_fscore_support(y_test,preds_df['pred_loan_status'])[1][1]\n",
    "\n",
    "# Calculate the estimated impact of the new default recall rate\n",
    "lr_default_impact = round(avg_loan_amnt * num_defaults * (1 - default_recall), 2)\n",
    "print('Estimated Loss impact: $', lr_default_impact)\n"
   ]
  },
  {
   "cell_type": "markdown",
   "id": "b73ba1c5",
   "metadata": {},
   "source": [
    "## KNN\n"
   ]
  },
  {
   "cell_type": "code",
   "execution_count": 43,
   "id": "56a0a587",
   "metadata": {},
   "outputs": [
    {
     "data": {
      "text/html": [
       "<style>#sk-container-id-2 {color: black;background-color: white;}#sk-container-id-2 pre{padding: 0;}#sk-container-id-2 div.sk-toggleable {background-color: white;}#sk-container-id-2 label.sk-toggleable__label {cursor: pointer;display: block;width: 100%;margin-bottom: 0;padding: 0.3em;box-sizing: border-box;text-align: center;}#sk-container-id-2 label.sk-toggleable__label-arrow:before {content: \"▸\";float: left;margin-right: 0.25em;color: #696969;}#sk-container-id-2 label.sk-toggleable__label-arrow:hover:before {color: black;}#sk-container-id-2 div.sk-estimator:hover label.sk-toggleable__label-arrow:before {color: black;}#sk-container-id-2 div.sk-toggleable__content {max-height: 0;max-width: 0;overflow: hidden;text-align: left;background-color: #f0f8ff;}#sk-container-id-2 div.sk-toggleable__content pre {margin: 0.2em;color: black;border-radius: 0.25em;background-color: #f0f8ff;}#sk-container-id-2 input.sk-toggleable__control:checked~div.sk-toggleable__content {max-height: 200px;max-width: 100%;overflow: auto;}#sk-container-id-2 input.sk-toggleable__control:checked~label.sk-toggleable__label-arrow:before {content: \"▾\";}#sk-container-id-2 div.sk-estimator input.sk-toggleable__control:checked~label.sk-toggleable__label {background-color: #d4ebff;}#sk-container-id-2 div.sk-label input.sk-toggleable__control:checked~label.sk-toggleable__label {background-color: #d4ebff;}#sk-container-id-2 input.sk-hidden--visually {border: 0;clip: rect(1px 1px 1px 1px);clip: rect(1px, 1px, 1px, 1px);height: 1px;margin: -1px;overflow: hidden;padding: 0;position: absolute;width: 1px;}#sk-container-id-2 div.sk-estimator {font-family: monospace;background-color: #f0f8ff;border: 1px dotted black;border-radius: 0.25em;box-sizing: border-box;margin-bottom: 0.5em;}#sk-container-id-2 div.sk-estimator:hover {background-color: #d4ebff;}#sk-container-id-2 div.sk-parallel-item::after {content: \"\";width: 100%;border-bottom: 1px solid gray;flex-grow: 1;}#sk-container-id-2 div.sk-label:hover label.sk-toggleable__label {background-color: #d4ebff;}#sk-container-id-2 div.sk-serial::before {content: \"\";position: absolute;border-left: 1px solid gray;box-sizing: border-box;top: 0;bottom: 0;left: 50%;z-index: 0;}#sk-container-id-2 div.sk-serial {display: flex;flex-direction: column;align-items: center;background-color: white;padding-right: 0.2em;padding-left: 0.2em;position: relative;}#sk-container-id-2 div.sk-item {position: relative;z-index: 1;}#sk-container-id-2 div.sk-parallel {display: flex;align-items: stretch;justify-content: center;background-color: white;position: relative;}#sk-container-id-2 div.sk-item::before, #sk-container-id-2 div.sk-parallel-item::before {content: \"\";position: absolute;border-left: 1px solid gray;box-sizing: border-box;top: 0;bottom: 0;left: 50%;z-index: -1;}#sk-container-id-2 div.sk-parallel-item {display: flex;flex-direction: column;z-index: 1;position: relative;background-color: white;}#sk-container-id-2 div.sk-parallel-item:first-child::after {align-self: flex-end;width: 50%;}#sk-container-id-2 div.sk-parallel-item:last-child::after {align-self: flex-start;width: 50%;}#sk-container-id-2 div.sk-parallel-item:only-child::after {width: 0;}#sk-container-id-2 div.sk-dashed-wrapped {border: 1px dashed gray;margin: 0 0.4em 0.5em 0.4em;box-sizing: border-box;padding-bottom: 0.4em;background-color: white;}#sk-container-id-2 div.sk-label label {font-family: monospace;font-weight: bold;display: inline-block;line-height: 1.2em;}#sk-container-id-2 div.sk-label-container {text-align: center;}#sk-container-id-2 div.sk-container {/* jupyter's `normalize.less` sets `[hidden] { display: none; }` but bootstrap.min.css set `[hidden] { display: none !important; }` so we also need the `!important` here to be able to override the default hidden behavior on the sphinx rendered scikit-learn.org. See: https://github.com/scikit-learn/scikit-learn/issues/21755 */display: inline-block !important;position: relative;}#sk-container-id-2 div.sk-text-repr-fallback {display: none;}</style><div id=\"sk-container-id-2\" class=\"sk-top-container\"><div class=\"sk-text-repr-fallback\"><pre>KNeighborsClassifier(n_neighbors=7)</pre><b>In a Jupyter environment, please rerun this cell to show the HTML representation or trust the notebook. <br />On GitHub, the HTML representation is unable to render, please try loading this page with nbviewer.org.</b></div><div class=\"sk-container\" hidden><div class=\"sk-item\"><div class=\"sk-estimator sk-toggleable\"><input class=\"sk-toggleable__control sk-hidden--visually\" id=\"sk-estimator-id-2\" type=\"checkbox\" checked><label for=\"sk-estimator-id-2\" class=\"sk-toggleable__label sk-toggleable__label-arrow\">KNeighborsClassifier</label><div class=\"sk-toggleable__content\"><pre>KNeighborsClassifier(n_neighbors=7)</pre></div></div></div></div></div>"
      ],
      "text/plain": [
       "KNeighborsClassifier(n_neighbors=7)"
      ]
     },
     "execution_count": 43,
     "metadata": {},
     "output_type": "execute_result"
    }
   ],
   "source": [
    "# model definition\n",
    "knn_model = nh.KNeighborsClassifier( n_neighbors=7 )\n",
    "\n",
    "# model training\n",
    "knn_model.fit(X_train[sel_columns_require_normalization], np.ravel(y_train))"
   ]
  },
  {
   "cell_type": "code",
   "execution_count": 44,
   "id": "474eb3e0",
   "metadata": {},
   "outputs": [
    {
     "data": {
      "text/html": [
       "<div>\n",
       "<style scoped>\n",
       "    .dataframe tbody tr th:only-of-type {\n",
       "        vertical-align: middle;\n",
       "    }\n",
       "\n",
       "    .dataframe tbody tr th {\n",
       "        vertical-align: top;\n",
       "    }\n",
       "\n",
       "    .dataframe thead th {\n",
       "        text-align: right;\n",
       "    }\n",
       "</style>\n",
       "<table border=\"1\" class=\"dataframe\">\n",
       "  <thead>\n",
       "    <tr style=\"text-align: right;\">\n",
       "      <th></th>\n",
       "      <th>prob_default</th>\n",
       "      <th>pred_loan_status</th>\n",
       "    </tr>\n",
       "  </thead>\n",
       "  <tbody>\n",
       "    <tr>\n",
       "      <th>0</th>\n",
       "      <td>0.000000</td>\n",
       "      <td>0</td>\n",
       "    </tr>\n",
       "    <tr>\n",
       "      <th>1</th>\n",
       "      <td>0.857143</td>\n",
       "      <td>1</td>\n",
       "    </tr>\n",
       "    <tr>\n",
       "      <th>2</th>\n",
       "      <td>1.000000</td>\n",
       "      <td>1</td>\n",
       "    </tr>\n",
       "    <tr>\n",
       "      <th>3</th>\n",
       "      <td>0.142857</td>\n",
       "      <td>0</td>\n",
       "    </tr>\n",
       "    <tr>\n",
       "      <th>4</th>\n",
       "      <td>1.000000</td>\n",
       "      <td>1</td>\n",
       "    </tr>\n",
       "  </tbody>\n",
       "</table>\n",
       "</div>"
      ],
      "text/plain": [
       "   prob_default  pred_loan_status\n",
       "0      0.000000                 0\n",
       "1      0.857143                 1\n",
       "2      1.000000                 1\n",
       "3      0.142857                 0\n",
       "4      1.000000                 1"
      ]
     },
     "execution_count": 44,
     "metadata": {},
     "output_type": "execute_result"
    }
   ],
   "source": [
    "preds = knn_model.predict_proba(X_test[sel_columns_require_normalization])\n",
    "\n",
    "# Create dataframes of first five predictions, and first five true labels\n",
    "preds_df_knn = pd.DataFrame(preds[:,1], columns = ['prob_default'])\n",
    "\n",
    "#Therehold 0.5\n",
    "preds_df_knn['pred_loan_status'] = preds_df_knn['prob_default'].apply(lambda x: 1 if x > 0.5 else 0)\n",
    "\n",
    "pd.concat([y_test.reset_index(drop = True), preds_df_knn], axis = 1)\n",
    "preds_df_knn.head()"
   ]
  },
  {
   "cell_type": "code",
   "execution_count": 45,
   "id": "7b335cef",
   "metadata": {},
   "outputs": [
    {
     "name": "stdout",
     "output_type": "stream",
     "text": [
      "[[4386  173]\n",
      " [ 540  793]]\n"
     ]
    },
    {
     "data": {
      "image/png": "[encoded data removed]",
      "text/plain": [
       "<Figure size 432x288 with 2 Axes>"
      ]
     },
     "metadata": {
      "needs_background": "light"
     },
     "output_type": "display_data"
    }
   ],
   "source": [
    "# Print the confusion matrix\n",
    "print(confusion_matrix(y_test,preds_df_knn['pred_loan_status']))\n",
    "sns.heatmap(confusion_matrix(y_test,preds_df_knn['pred_loan_status']), annot=True, fmt=\".0f\");"
   ]
  },
  {
   "cell_type": "code",
   "execution_count": 46,
   "id": "ef3ad9c5",
   "metadata": {},
   "outputs": [
    {
     "name": "stdout",
     "output_type": "stream",
     "text": [
      "              precision    recall  f1-score   support\n",
      "\n",
      " Non-Default       0.89      0.96      0.92      4559\n",
      "     Default       0.82      0.59      0.69      1333\n",
      "\n",
      "    accuracy                           0.88      5892\n",
      "   macro avg       0.86      0.78      0.81      5892\n",
      "weighted avg       0.87      0.88      0.87      5892\n",
      "\n"
     ]
    }
   ],
   "source": [
    "print(classification_report(y_test, preds_df_knn['pred_loan_status'], target_names=target_names) )\n"
   ]
  },
  {
   "cell_type": "code",
   "execution_count": 87,
   "id": "3a961034",
   "metadata": {},
   "outputs": [
    {
     "data": {
      "image/png": "[encoded data removed]",
      "text/plain": [
       "<Figure size 432x288 with 1 Axes>"
      ]
     },
     "metadata": {
      "needs_background": "light"
     },
     "output_type": "display_data"
    },
    {
     "data": {
      "text/plain": [
       "0.9457370374618221"
      ]
     },
     "execution_count": 87,
     "metadata": {},
     "output_type": "execute_result"
    }
   ],
   "source": [
    "# Plot the ROC curve of the probabilities of default\n",
    "prob_default_knn = preds[:, 1]\n",
    "fallout, sensitivity, thresholds = roc_curve(y_test, prob_default)\n",
    "plt.plot(fallout, sensitivity, color = 'darkorange')\n",
    "plt.plot([0, 1], [0, 1], linestyle='--')\n",
    "plt.show()\n",
    "\n",
    "# Compute the AUC and store it in a variable\n",
    "auc = roc_auc_score(y_test, prob_default)\n",
    "auc"
   ]
  },
  {
   "cell_type": "code",
   "execution_count": 48,
   "id": "43c180b9",
   "metadata": {},
   "outputs": [
    {
     "data": {
      "text/html": [
       "<div>\n",
       "<style scoped>\n",
       "    .dataframe tbody tr th:only-of-type {\n",
       "        vertical-align: middle;\n",
       "    }\n",
       "\n",
       "    .dataframe tbody tr th {\n",
       "        vertical-align: top;\n",
       "    }\n",
       "\n",
       "    .dataframe thead th {\n",
       "        text-align: right;\n",
       "    }\n",
       "</style>\n",
       "<table border=\"1\" class=\"dataframe\">\n",
       "  <thead>\n",
       "    <tr style=\"text-align: right;\">\n",
       "      <th></th>\n",
       "      <th>Model Name</th>\n",
       "      <th>PRECISION</th>\n",
       "      <th>RECALL</th>\n",
       "      <th>F1_score</th>\n",
       "    </tr>\n",
       "  </thead>\n",
       "  <tbody>\n",
       "    <tr>\n",
       "      <th>0</th>\n",
       "      <td>KNN</td>\n",
       "      <td>0.666 +/- 0.009</td>\n",
       "      <td>0.45 +/- 0.006</td>\n",
       "      <td>0.537 +/- 0.004</td>\n",
       "    </tr>\n",
       "  </tbody>\n",
       "</table>\n",
       "</div>"
      ],
      "text/plain": [
       "  Model Name        PRECISION          RECALL         F1_score\n",
       "0        KNN  0.666 +/- 0.009  0.45 +/- 0.006  0.537 +/- 0.004"
      ]
     },
     "execution_count": 48,
     "metadata": {},
     "output_type": "execute_result"
    }
   ],
   "source": [
    "knn_result = cross_validation(3,knn_model, 'KNN', X_train, y_train, False)\n",
    "knn_result"
   ]
  },
  {
   "cell_type": "code",
   "execution_count": 49,
   "id": "3dedba2a",
   "metadata": {},
   "outputs": [
    {
     "name": "stdout",
     "output_type": "stream",
     "text": [
      "Estimated Loss impact: $ 3750329.41\n"
     ]
    }
   ],
   "source": [
    "# Store the number of loan defaults from the prediction data\n",
    "num_defaults = preds_df_knn['pred_loan_status'].value_counts()[1]\n",
    "nondef_recalls = preds_df_knn['pred_loan_status'].value_counts()[0]\n",
    "\n",
    "# Store the default recall from the classification report\n",
    "default_recall = precision_recall_fscore_support(y_test,preds_df_knn['pred_loan_status'])[1][1]\n",
    "\n",
    "# Calculate the estimated impact of the new default recall rate\n",
    "knn_default_impact = round(avg_loan_amnt * num_defaults * (1 - default_recall), 2)\n",
    "print('Estimated Loss impact: $', knn_default_impact)\n"
   ]
  },
  {
   "cell_type": "markdown",
   "id": "3a280564",
   "metadata": {},
   "source": [
    "## XGBOOST"
   ]
  },
  {
   "cell_type": "markdown",
   "id": "35c57335",
   "metadata": {},
   "source": [
    "### Column importance and default prediction in XGBoost\n"
   ]
  },
  {
   "cell_type": "code",
   "execution_count": 53,
   "id": "2dfd7d81",
   "metadata": {},
   "outputs": [
    {
     "data": {
      "text/plain": [
       "[('person_income', 755.0),\n",
       " ('loan_int_rate', 502.0),\n",
       " ('loan_amnt', 338.0),\n",
       " ('loan_percent_income', 320.0),\n",
       " ('person_emp_length', 318.0),\n",
       " ('person_age', 285.0),\n",
       " ('cb_person_cred_hist_length', 180.0),\n",
       " ('loan_intent_MEDICAL', 76.0),\n",
       " ('loan_intent_DEBTCONSOLIDATION', 66.0),\n",
       " ('person_home_ownership_RENT', 55.0),\n",
       " ('loan_grade_C', 54.0),\n",
       " ('person_home_ownership_OWN', 52.0),\n",
       " ('person_home_ownership_MORTGAGE', 51.0),\n",
       " ('loan_grade_D', 51.0),\n",
       " ('loan_intent_HOMEIMPROVEMENT', 39.0),\n",
       " ('loan_intent_VENTURE', 37.0),\n",
       " ('loan_intent_EDUCATION', 36.0),\n",
       " ('loan_intent_PERSONAL', 35.0),\n",
       " ('loan_grade_B', 31.0),\n",
       " ('cb_person_default_on_file_N', 23.0),\n",
       " ('loan_grade_E', 17.0),\n",
       " ('loan_grade_G', 12.0),\n",
       " ('loan_grade_F', 7.0),\n",
       " ('person_home_ownership_OTHER', 5.0),\n",
       " ('loan_grade_A', 1.0)]"
      ]
     },
     "execution_count": 53,
     "metadata": {},
     "output_type": "execute_result"
    }
   ],
   "source": [
    "# Column importance and default prediction in XGBoost\n",
    "# Create and train the model on the training data\n",
    "clf_gbt_all = xgb.XGBClassifier().fit(X_train,np.ravel(y_train))\n",
    "\n",
    "# predict\n",
    "preds_gbt0= clf_gbt_all.predict_proba(X_test)\n",
    "\n",
    "preds_df_gbt0= preds_df_func(preds_gbt0,X_test, y_test, therehold = 0.5)\n",
    "\n",
    "\n",
    "\n",
    "# Print the column importances from the model\n",
    "importance_gbt = clf_gbt_all.get_booster().get_score(importance_type = 'weight')\n",
    "importance_gbt = sorted(importance_gbt.items() , key=lambda x:x[1], reverse=True) \n",
    "importance_gbt"
   ]
  },
  {
   "cell_type": "code",
   "execution_count": 54,
   "id": "f6e6a5bb",
   "metadata": {},
   "outputs": [
    {
     "data": {
      "image/png": "[encoded data removed]",
      "text/plain": [
       "<Figure size 432x288 with 1 Axes>"
      ]
     },
     "metadata": {
      "needs_background": "light"
     },
     "output_type": "display_data"
    }
   ],
   "source": [
    "# Plot the column importance for this model\n",
    "xgb.plot_importance(clf_gbt_all, importance_type = 'weight')\n",
    "plt.show()"
   ]
  },
  {
   "cell_type": "code",
   "execution_count": 55,
   "id": "aeabe5a4",
   "metadata": {},
   "outputs": [
    {
     "data": {
      "text/plain": [
       "dict_keys(['person_income', 'loan_int_rate', 'loan_amnt', 'loan_percent_income', 'person_emp_length', 'person_age', 'cb_person_cred_hist_length', 'loan_intent_MEDICAL', 'loan_intent_DEBTCONSOLIDATION', 'person_home_ownership_RENT', 'loan_grade_C', 'person_home_ownership_OWN', 'person_home_ownership_MORTGAGE', 'loan_grade_D', 'loan_intent_HOMEIMPROVEMENT', 'loan_intent_VENTURE', 'loan_intent_EDUCATION', 'loan_intent_PERSONAL', 'loan_grade_B', 'cb_person_default_on_file_N', 'loan_grade_E', 'loan_grade_G'])"
      ]
     },
     "execution_count": 55,
     "metadata": {},
     "output_type": "execute_result"
    }
   ],
   "source": [
    "selection_xgt1 = dict(importance_gbt[:14]).keys() \n",
    "selection_xgt2 = dict(importance_gbt[:22]).keys() \n",
    "\n",
    "selection_xgt2"
   ]
  },
  {
   "cell_type": "code",
   "execution_count": 56,
   "id": "ba94d08a",
   "metadata": {},
   "outputs": [
    {
     "data": {
      "text/html": [
       "<div>\n",
       "<style scoped>\n",
       "    .dataframe tbody tr th:only-of-type {\n",
       "        vertical-align: middle;\n",
       "    }\n",
       "\n",
       "    .dataframe tbody tr th {\n",
       "        vertical-align: top;\n",
       "    }\n",
       "\n",
       "    .dataframe thead th {\n",
       "        text-align: right;\n",
       "    }\n",
       "</style>\n",
       "<table border=\"1\" class=\"dataframe\">\n",
       "  <thead>\n",
       "    <tr style=\"text-align: right;\">\n",
       "      <th></th>\n",
       "      <th>prob_default</th>\n",
       "      <th>pred_loan_status</th>\n",
       "    </tr>\n",
       "  </thead>\n",
       "  <tbody>\n",
       "    <tr>\n",
       "      <th>0</th>\n",
       "      <td>0.040802</td>\n",
       "      <td>0</td>\n",
       "    </tr>\n",
       "    <tr>\n",
       "      <th>1</th>\n",
       "      <td>0.992110</td>\n",
       "      <td>1</td>\n",
       "    </tr>\n",
       "    <tr>\n",
       "      <th>2</th>\n",
       "      <td>0.980369</td>\n",
       "      <td>1</td>\n",
       "    </tr>\n",
       "    <tr>\n",
       "      <th>3</th>\n",
       "      <td>0.036026</td>\n",
       "      <td>0</td>\n",
       "    </tr>\n",
       "    <tr>\n",
       "      <th>4</th>\n",
       "      <td>0.992523</td>\n",
       "      <td>1</td>\n",
       "    </tr>\n",
       "  </tbody>\n",
       "</table>\n",
       "</div>"
      ],
      "text/plain": [
       "   prob_default  pred_loan_status\n",
       "0      0.040802                 0\n",
       "1      0.992110                 1\n",
       "2      0.980369                 1\n",
       "3      0.036026                 0\n",
       "4      0.992523                 1"
      ]
     },
     "execution_count": 56,
     "metadata": {},
     "output_type": "execute_result"
    }
   ],
   "source": [
    "# Train a model\n",
    "clf_gbt = xgb.XGBClassifier().fit(X_train[sel_columns], np.ravel(y_train))\n",
    "\n",
    "# predict\n",
    "preds_gbt = clf_gbt.predict_proba(X_test[sel_columns])\n",
    "\n",
    "# df of prediction with therehold\n",
    "preds_df_gbt= preds_df_func(preds_gbt,X_test[sel_columns], y_test, therehold = 0.5)\n",
    "preds_df_gbt.head()\n",
    "\n"
   ]
  },
  {
   "cell_type": "code",
   "execution_count": 57,
   "id": "3c857150",
   "metadata": {},
   "outputs": [
    {
     "data": {
      "text/html": [
       "<div>\n",
       "<style scoped>\n",
       "    .dataframe tbody tr th:only-of-type {\n",
       "        vertical-align: middle;\n",
       "    }\n",
       "\n",
       "    .dataframe tbody tr th {\n",
       "        vertical-align: top;\n",
       "    }\n",
       "\n",
       "    .dataframe thead th {\n",
       "        text-align: right;\n",
       "    }\n",
       "</style>\n",
       "<table border=\"1\" class=\"dataframe\">\n",
       "  <thead>\n",
       "    <tr style=\"text-align: right;\">\n",
       "      <th></th>\n",
       "      <th>prob_default</th>\n",
       "      <th>pred_loan_status</th>\n",
       "    </tr>\n",
       "  </thead>\n",
       "  <tbody>\n",
       "    <tr>\n",
       "      <th>0</th>\n",
       "      <td>0.041010</td>\n",
       "      <td>0</td>\n",
       "    </tr>\n",
       "    <tr>\n",
       "      <th>1</th>\n",
       "      <td>0.996296</td>\n",
       "      <td>1</td>\n",
       "    </tr>\n",
       "    <tr>\n",
       "      <th>2</th>\n",
       "      <td>0.995358</td>\n",
       "      <td>1</td>\n",
       "    </tr>\n",
       "    <tr>\n",
       "      <th>3</th>\n",
       "      <td>0.015049</td>\n",
       "      <td>0</td>\n",
       "    </tr>\n",
       "    <tr>\n",
       "      <th>4</th>\n",
       "      <td>0.999633</td>\n",
       "      <td>1</td>\n",
       "    </tr>\n",
       "  </tbody>\n",
       "</table>\n",
       "</div>"
      ],
      "text/plain": [
       "   prob_default  pred_loan_status\n",
       "0      0.041010                 0\n",
       "1      0.996296                 1\n",
       "2      0.995358                 1\n",
       "3      0.015049                 0\n",
       "4      0.999633                 1"
      ]
     },
     "execution_count": 57,
     "metadata": {},
     "output_type": "execute_result"
    }
   ],
   "source": [
    "# Train a model\n",
    "clf_gbt1 = xgb.XGBClassifier().fit(X_train[selection_xgt1], np.ravel(y_train))\n",
    "\n",
    "# predict\n",
    "preds_gbt1 = clf_gbt1.predict_proba(X_test[selection_xgt1])\n",
    "\n",
    "preds_df_gbt1= preds_df_func(preds_gbt1,X_test[selection_xgt1], y_test, therehold = 0.5)\n",
    "preds_df_gbt1.head()"
   ]
  },
  {
   "cell_type": "code",
   "execution_count": 58,
   "id": "bd955155",
   "metadata": {},
   "outputs": [
    {
     "data": {
      "text/html": [
       "<div>\n",
       "<style scoped>\n",
       "    .dataframe tbody tr th:only-of-type {\n",
       "        vertical-align: middle;\n",
       "    }\n",
       "\n",
       "    .dataframe tbody tr th {\n",
       "        vertical-align: top;\n",
       "    }\n",
       "\n",
       "    .dataframe thead th {\n",
       "        text-align: right;\n",
       "    }\n",
       "</style>\n",
       "<table border=\"1\" class=\"dataframe\">\n",
       "  <thead>\n",
       "    <tr style=\"text-align: right;\">\n",
       "      <th></th>\n",
       "      <th>prob_default</th>\n",
       "      <th>pred_loan_status</th>\n",
       "    </tr>\n",
       "  </thead>\n",
       "  <tbody>\n",
       "    <tr>\n",
       "      <th>0</th>\n",
       "      <td>0.046210</td>\n",
       "      <td>0</td>\n",
       "    </tr>\n",
       "    <tr>\n",
       "      <th>1</th>\n",
       "      <td>0.998865</td>\n",
       "      <td>1</td>\n",
       "    </tr>\n",
       "    <tr>\n",
       "      <th>2</th>\n",
       "      <td>0.992869</td>\n",
       "      <td>1</td>\n",
       "    </tr>\n",
       "    <tr>\n",
       "      <th>3</th>\n",
       "      <td>0.000289</td>\n",
       "      <td>0</td>\n",
       "    </tr>\n",
       "    <tr>\n",
       "      <th>4</th>\n",
       "      <td>0.999871</td>\n",
       "      <td>1</td>\n",
       "    </tr>\n",
       "  </tbody>\n",
       "</table>\n",
       "</div>"
      ],
      "text/plain": [
       "   prob_default  pred_loan_status\n",
       "0      0.046210                 0\n",
       "1      0.998865                 1\n",
       "2      0.992869                 1\n",
       "3      0.000289                 0\n",
       "4      0.999871                 1"
      ]
     },
     "execution_count": 58,
     "metadata": {},
     "output_type": "execute_result"
    }
   ],
   "source": [
    "# Train a model\n",
    "clf_gbt2= xgb.XGBClassifier().fit(X_train[selection_xgt2], np.ravel(y_train))\n",
    "\n",
    "# predict\n",
    "preds_gbt2 = clf_gbt2.predict_proba(X_test[selection_xgt2])\n",
    "\n",
    "preds_df_gbt2= preds_df_func(preds_gbt2,X_test[selection_xgt2], y_test, therehold = 0.5)\n",
    "preds_df_gbt2.head()"
   ]
  },
  {
   "cell_type": "code",
   "execution_count": 59,
   "id": "63718494",
   "metadata": {},
   "outputs": [
    {
     "name": "stdout",
     "output_type": "stream",
     "text": [
      "all features\n",
      "              precision    recall  f1-score   support\n",
      "\n",
      " Non-Default       0.93      0.99      0.96      4559\n",
      "     Default       0.95      0.76      0.84      1333\n",
      "\n",
      "    accuracy                           0.93      5892\n",
      "   macro avg       0.94      0.87      0.90      5892\n",
      "weighted avg       0.94      0.93      0.93      5892\n",
      "\n",
      "firt selection\n",
      "              precision    recall  f1-score   support\n",
      "\n",
      " Non-Default       0.91      0.98      0.95      4559\n",
      "     Default       0.91      0.68      0.78      1333\n",
      "\n",
      "    accuracy                           0.91      5892\n",
      "   macro avg       0.91      0.83      0.86      5892\n",
      "weighted avg       0.91      0.91      0.91      5892\n",
      "\n",
      "XGbooster selection1\n",
      "              precision    recall  f1-score   support\n",
      "\n",
      " Non-Default       0.92      0.99      0.95      4559\n",
      "     Default       0.94      0.72      0.82      1333\n",
      "\n",
      "    accuracy                           0.93      5892\n",
      "   macro avg       0.93      0.85      0.88      5892\n",
      "weighted avg       0.93      0.93      0.92      5892\n",
      "\n",
      "XGbooster selection2\n",
      "              precision    recall  f1-score   support\n",
      "\n",
      " Non-Default       0.93      0.99      0.96      4559\n",
      "     Default       0.95      0.76      0.84      1333\n",
      "\n",
      "    accuracy                           0.94      5892\n",
      "   macro avg       0.94      0.87      0.90      5892\n",
      "weighted avg       0.94      0.94      0.93      5892\n",
      "\n"
     ]
    }
   ],
   "source": [
    "\n",
    "print('all features')\n",
    "print(classification_report(y_test, preds_df_gbt0['pred_loan_status'], target_names=target_names))\n",
    "\n",
    "print('firt selection')\n",
    "print(classification_report(y_test, preds_df_gbt['pred_loan_status'], target_names=target_names))\n",
    "\n",
    "print('XGbooster selection1')\n",
    "\n",
    "# Print the classification report of the second model\n",
    "print(classification_report(y_test, preds_df_gbt1['pred_loan_status'], target_names=target_names))\n",
    "\n",
    "print('XGbooster selection2')\n",
    "\n",
    "# Print the classification report of the second model\n",
    "print(classification_report(y_test, preds_df_gbt2['pred_loan_status'], target_names=target_names))"
   ]
  },
  {
   "cell_type": "code",
   "execution_count": 60,
   "id": "0d6aec43",
   "metadata": {},
   "outputs": [
    {
     "name": "stdout",
     "output_type": "stream",
     "text": [
      "[[4508   51]\n",
      " [ 325 1008]]\n"
     ]
    },
    {
     "data": {
      "image/png": "[encoded data removed]",
      "text/plain": [
       "<Figure size 432x288 with 2 Axes>"
      ]
     },
     "metadata": {
      "needs_background": "light"
     },
     "output_type": "display_data"
    }
   ],
   "source": [
    "# Print the confusion matrix\n",
    "print(confusion_matrix(y_test,preds_df_gbt2['pred_loan_status']))\n",
    "sns.heatmap(confusion_matrix(y_test,preds_df_gbt2['pred_loan_status']), annot=True, fmt=\".0f\");"
   ]
  },
  {
   "cell_type": "code",
   "execution_count": 85,
   "id": "4cd38d7e",
   "metadata": {
    "scrolled": true
   },
   "outputs": [
    {
     "data": {
      "image/png": "[encoded data removed]",
      "text/plain": [
       "<Figure size 432x288 with 1 Axes>"
      ]
     },
     "metadata": {
      "needs_background": "light"
     },
     "output_type": "display_data"
    },
    {
     "data": {
      "text/plain": [
       "0.9457370374618221"
      ]
     },
     "execution_count": 85,
     "metadata": {},
     "output_type": "execute_result"
    }
   ],
   "source": [
    "# Plot the ROC curve of the probabilities of default\n",
    "prob_default_xgb = preds_gbt2[:, 1]\n",
    "fallout, sensitivity, thresholds = roc_curve(y_test, prob_default)\n",
    "plt.plot(fallout, sensitivity, color = 'darkorange')\n",
    "plt.plot([0, 1], [0, 1], linestyle='--')\n",
    "plt.show()\n",
    "\n",
    "# Compute the AUC and store it in a variable\n",
    "auc = roc_auc_score(y_test, prob_default)\n",
    "auc"
   ]
  },
  {
   "cell_type": "code",
   "execution_count": 62,
   "id": "bcd1be63",
   "metadata": {},
   "outputs": [
    {
     "name": "stdout",
     "output_type": "stream",
     "text": [
      "Estimated Loss impact: $ 2474445.26\n"
     ]
    }
   ],
   "source": [
    "#economic impact for the non detected default\n",
    "gbt_default_impact = economic_impact_nondetected_default(preds_df_gbt2, y_test,avg_loan_amnt)\n"
   ]
  },
  {
   "cell_type": "code",
   "execution_count": 63,
   "id": "556b5a54",
   "metadata": {},
   "outputs": [
    {
     "name": "stdout",
     "output_type": "stream",
     "text": [
      "   train-auc-mean  train-auc-std  test-auc-mean  test-auc-std\n",
      "0        0.898912       0.002288       0.892372      0.008008\n",
      "1        0.908842       0.003330       0.902955      0.011283\n",
      "2        0.912021       0.002829       0.904931      0.010817\n",
      "3        0.916412       0.001942       0.908561      0.009875\n",
      "4        0.919933       0.002248       0.911476      0.010734\n"
     ]
    }
   ],
   "source": [
    "#cross validation within XGBoost\n",
    "# Set the values for number of folds and stopping iterations\n",
    "n_folds = 5\n",
    "early_stopping = 10\n",
    "# Set any specific parameters for cross validation\n",
    "params = {'objective': 'binary:logistic','seed': 99,'eval_metric':'auc'}\n",
    "\n",
    "# Create the DTrain matrix for XGBoost\n",
    "DTrain = xgb.DMatrix(X_train[selection_xgt2], label = y_train)\n",
    "\n",
    "# Create the data frame of cross validations\n",
    "cv_df = xgb.cv(params, DTrain, num_boost_round = 5, nfold=n_folds,\n",
    "            early_stopping_rounds=early_stopping)\n",
    "\n",
    "# Print the cross validations data frame\n",
    "print(cv_df)"
   ]
  },
  {
   "cell_type": "code",
   "execution_count": 64,
   "id": "8d86c730",
   "metadata": {},
   "outputs": [],
   "source": [
    "cv_results_big = xgb.cv(params, DTrain, num_boost_round = 600, nfold=10,\n",
    "            shuffle = True)\n"
   ]
  },
  {
   "cell_type": "code",
   "execution_count": 65,
   "id": "f5b9e510",
   "metadata": {},
   "outputs": [
    {
     "name": "stdout",
     "output_type": "stream",
     "text": [
      "0.94\n"
     ]
    },
    {
     "data": {
      "image/png": "[encoded data removed]",
      "text/plain": [
       "<Figure size 432x288 with 1 Axes>"
      ]
     },
     "metadata": {
      "needs_background": "light"
     },
     "output_type": "display_data"
    }
   ],
   "source": [
    "# Calculate the mean of the test AUC scores\n",
    "print(np.mean(cv_results_big['test-auc-mean']).round(2))\n",
    "\n",
    "# Plot the test AUC scores for each iteration\n",
    "plt.plot(cv_results_big['test-auc-mean'])\n",
    "plt.title('Test AUC Score Over 600 Iterations')\n",
    "plt.xlabel('Iteration Number')\n",
    "plt.ylabel('Test AUC Score')\n",
    "plt.show()"
   ]
  },
  {
   "cell_type": "code",
   "execution_count": 66,
   "id": "63851c58",
   "metadata": {},
   "outputs": [
    {
     "data": {
      "text/html": [
       "<div>\n",
       "<style scoped>\n",
       "    .dataframe tbody tr th:only-of-type {\n",
       "        vertical-align: middle;\n",
       "    }\n",
       "\n",
       "    .dataframe tbody tr th {\n",
       "        vertical-align: top;\n",
       "    }\n",
       "\n",
       "    .dataframe thead th {\n",
       "        text-align: right;\n",
       "    }\n",
       "</style>\n",
       "<table border=\"1\" class=\"dataframe\">\n",
       "  <thead>\n",
       "    <tr style=\"text-align: right;\">\n",
       "      <th></th>\n",
       "      <th>Model Name</th>\n",
       "      <th>PRECISION</th>\n",
       "      <th>RECALL</th>\n",
       "      <th>F1_score</th>\n",
       "    </tr>\n",
       "  </thead>\n",
       "  <tbody>\n",
       "    <tr>\n",
       "      <th>0</th>\n",
       "      <td>XGB</td>\n",
       "      <td>0.94 +/- 0.002</td>\n",
       "      <td>0.734 +/- 0.006</td>\n",
       "      <td>0.824 +/- 0.004</td>\n",
       "    </tr>\n",
       "  </tbody>\n",
       "</table>\n",
       "</div>"
      ],
      "text/plain": [
       "  Model Name       PRECISION           RECALL         F1_score\n",
       "0        XGB  0.94 +/- 0.002  0.734 +/- 0.006  0.824 +/- 0.004"
      ]
     },
     "execution_count": 66,
     "metadata": {},
     "output_type": "execute_result"
    }
   ],
   "source": [
    "xgb_result = cross_validation(3,clf_gbt2, 'XGB', X_train[selection_xgt2], y_train, False)\n",
    "xgb_result"
   ]
  },
  {
   "cell_type": "markdown",
   "id": "54d99dff",
   "metadata": {},
   "source": [
    "## Unbalanced Data - Undersampling"
   ]
  },
  {
   "cell_type": "code",
   "execution_count": 67,
   "id": "c9d8f538",
   "metadata": {},
   "outputs": [
    {
     "name": "stdout",
     "output_type": "stream",
     "text": [
      "0    3801\n",
      "1    3801\n",
      "Name: loan_status, dtype: int64\n"
     ]
    }
   ],
   "source": [
    "#Undersampling training data\n",
    "\n",
    "# Concat the training sets\n",
    "X_y_train = pd.concat([X_train[selection_xgt2].reset_index(drop = True),y_train.reset_index(drop = True)], axis = 1)\n",
    "\n",
    "# Get the counts of defaults and non-defaults\n",
    "count_nondefault, count_default = X_y_train['loan_status'].value_counts()\n",
    "\n",
    "\n",
    "# Separate nondefaults and defaults\n",
    "nondefaults = X_y_train[X_y_train['loan_status'] == 0]\n",
    "defaults = X_y_train[X_y_train['loan_status'] == 1]\n",
    "\n",
    "# Undersample the non-defaults\n",
    "nondefaults_under = nondefaults.sample(count_default)\n",
    "\n",
    "# Concatenate the undersampled nondefaults with defaults\n",
    "X_y_train_under = pd.concat([nondefaults_under.reset_index(drop = True),\n",
    "                             defaults.reset_index(drop = True)], axis = 0)\n",
    "\n",
    "# Print the value counts for loan status\n",
    "print(X_y_train_under['loan_status'].value_counts())"
   ]
  },
  {
   "cell_type": "code",
   "execution_count": 68,
   "id": "e5b67499",
   "metadata": {},
   "outputs": [
    {
     "data": {
      "text/html": [
       "<div>\n",
       "<style scoped>\n",
       "    .dataframe tbody tr th:only-of-type {\n",
       "        vertical-align: middle;\n",
       "    }\n",
       "\n",
       "    .dataframe tbody tr th {\n",
       "        vertical-align: top;\n",
       "    }\n",
       "\n",
       "    .dataframe thead th {\n",
       "        text-align: right;\n",
       "    }\n",
       "</style>\n",
       "<table border=\"1\" class=\"dataframe\">\n",
       "  <thead>\n",
       "    <tr style=\"text-align: right;\">\n",
       "      <th></th>\n",
       "      <th>prob_default</th>\n",
       "      <th>pred_loan_status</th>\n",
       "    </tr>\n",
       "  </thead>\n",
       "  <tbody>\n",
       "    <tr>\n",
       "      <th>0</th>\n",
       "      <td>0.307373</td>\n",
       "      <td>0</td>\n",
       "    </tr>\n",
       "  </tbody>\n",
       "</table>\n",
       "</div>"
      ],
      "text/plain": [
       "   prob_default  pred_loan_status\n",
       "0      0.307373                 0"
      ]
     },
     "execution_count": 68,
     "metadata": {},
     "output_type": "execute_result"
    }
   ],
   "source": [
    "# Train a model\n",
    "clf_gbt_under= xgb.XGBClassifier().fit(X_y_train_under[selection_xgt2], np.ravel(X_y_train_under['loan_status']))\n",
    "\n",
    "# predict\n",
    "preds_gbt_under = clf_gbt_under.predict_proba(X_test[selection_xgt2])\n",
    "\n",
    "preds_df_gbt_under= preds_df_func(preds_gbt_under,X_test[selection_xgt2], y_test, therehold = 0.5)\n",
    "preds_df_gbt_under.head(1)"
   ]
  },
  {
   "cell_type": "code",
   "execution_count": 69,
   "id": "7fda6df6",
   "metadata": {},
   "outputs": [
    {
     "name": "stdout",
     "output_type": "stream",
     "text": [
      "              precision    recall  f1-score   support\n",
      "\n",
      " Non-Default       0.95      0.91      0.93      4559\n",
      "     Default       0.73      0.84      0.78      1333\n",
      "\n",
      "    accuracy                           0.89      5892\n",
      "   macro avg       0.84      0.87      0.85      5892\n",
      "weighted avg       0.90      0.89      0.89      5892\n",
      "\n"
     ]
    }
   ],
   "source": [
    "print(classification_report(y_test, preds_df_gbt_under['pred_loan_status'], target_names=target_names))\n"
   ]
  },
  {
   "cell_type": "code",
   "execution_count": 70,
   "id": "daff1c7d",
   "metadata": {},
   "outputs": [
    {
     "name": "stdout",
     "output_type": "stream",
     "text": [
      "[[4137  422]\n",
      " [ 214 1119]]\n"
     ]
    },
    {
     "data": {
      "image/png": "[encoded data removed]",
      "text/plain": [
       "<Figure size 432x288 with 2 Axes>"
      ]
     },
     "metadata": {
      "needs_background": "light"
     },
     "output_type": "display_data"
    }
   ],
   "source": [
    "# Print the confusion matrix\n",
    "print(confusion_matrix(y_test,preds_df_gbt_under['pred_loan_status']))\n",
    "sns.heatmap(confusion_matrix(y_test,preds_df_gbt_under['pred_loan_status']), annot=True, fmt=\".0f\");"
   ]
  },
  {
   "cell_type": "code",
   "execution_count": 71,
   "id": "d5ea2c7b",
   "metadata": {},
   "outputs": [
    {
     "data": {
      "image/png": "[encoded data removed]",
      "text/plain": [
       "<Figure size 432x288 with 1 Axes>"
      ]
     },
     "metadata": {
      "needs_background": "light"
     },
     "output_type": "display_data"
    },
    {
     "data": {
      "text/plain": [
       "0.9457370374618221"
      ]
     },
     "execution_count": 71,
     "metadata": {},
     "output_type": "execute_result"
    }
   ],
   "source": [
    "# Plot the ROC curve of the probabilities of default\n",
    "prob_default = preds_gbt_under[:, 1]\n",
    "fallout, sensitivity, thresholds = roc_curve(y_test, prob_default)\n",
    "plt.plot(fallout, sensitivity, color = 'darkorange')\n",
    "plt.plot([0, 1], [0, 1], linestyle='--')\n",
    "plt.show()\n",
    "\n",
    "# Compute the AUC and store it in a variable\n",
    "auc = roc_auc_score(y_test, prob_default)\n",
    "auc"
   ]
  },
  {
   "cell_type": "code",
   "execution_count": 72,
   "id": "296515aa",
   "metadata": {},
   "outputs": [
    {
     "name": "stdout",
     "output_type": "stream",
     "text": [
      "Estimated Loss impact: $ 2370909.31\n"
     ]
    }
   ],
   "source": [
    "#economic impact for the non detected default\n",
    "xgb_uder_default_impact = economic_impact_nondetected_default(preds_df_gbt_under, y_test,avg_loan_amnt)"
   ]
  },
  {
   "cell_type": "code",
   "execution_count": 73,
   "id": "6161e46e",
   "metadata": {},
   "outputs": [
    {
     "data": {
      "text/html": [
       "<div>\n",
       "<style scoped>\n",
       "    .dataframe tbody tr th:only-of-type {\n",
       "        vertical-align: middle;\n",
       "    }\n",
       "\n",
       "    .dataframe tbody tr th {\n",
       "        vertical-align: top;\n",
       "    }\n",
       "\n",
       "    .dataframe thead th {\n",
       "        text-align: right;\n",
       "    }\n",
       "</style>\n",
       "<table border=\"1\" class=\"dataframe\">\n",
       "  <thead>\n",
       "    <tr style=\"text-align: right;\">\n",
       "      <th></th>\n",
       "      <th>Model Name</th>\n",
       "      <th>PRECISION</th>\n",
       "      <th>RECALL</th>\n",
       "      <th>F1_score</th>\n",
       "    </tr>\n",
       "  </thead>\n",
       "  <tbody>\n",
       "    <tr>\n",
       "      <th>0</th>\n",
       "      <td>XGB -under_sampling</td>\n",
       "      <td>0.887 +/- 0.006</td>\n",
       "      <td>0.821 +/- 0.011</td>\n",
       "      <td>0.853 +/- 0.005</td>\n",
       "    </tr>\n",
       "  </tbody>\n",
       "</table>\n",
       "</div>"
      ],
      "text/plain": [
       "            Model Name        PRECISION           RECALL         F1_score\n",
       "0  XGB -under_sampling  0.887 +/- 0.006  0.821 +/- 0.011  0.853 +/- 0.005"
      ]
     },
     "execution_count": 73,
     "metadata": {},
     "output_type": "execute_result"
    }
   ],
   "source": [
    "xgb_under_result = cross_validation(3,clf_gbt_under, 'XGB -under_sampling', X_y_train_under[selection_xgt2], X_y_train_under['loan_status'], False)\n",
    "xgb_under_result"
   ]
  },
  {
   "cell_type": "code",
   "execution_count": 77,
   "id": "272c9bb2",
   "metadata": {},
   "outputs": [
    {
     "data": {
      "text/html": [
       "<div>\n",
       "<style scoped>\n",
       "    .dataframe tbody tr th:only-of-type {\n",
       "        vertical-align: middle;\n",
       "    }\n",
       "\n",
       "    .dataframe tbody tr th {\n",
       "        vertical-align: top;\n",
       "    }\n",
       "\n",
       "    .dataframe thead th {\n",
       "        text-align: right;\n",
       "    }\n",
       "</style>\n",
       "<table border=\"1\" class=\"dataframe\">\n",
       "  <thead>\n",
       "    <tr style=\"text-align: right;\">\n",
       "      <th></th>\n",
       "      <th>Model Name</th>\n",
       "      <th>PRECISION</th>\n",
       "      <th>RECALL</th>\n",
       "      <th>F1_score</th>\n",
       "    </tr>\n",
       "  </thead>\n",
       "  <tbody>\n",
       "    <tr>\n",
       "      <th>0</th>\n",
       "      <td>XGB -under_sampling</td>\n",
       "      <td>0.887 +/- 0.006</td>\n",
       "      <td>0.821 +/- 0.011</td>\n",
       "      <td>0.853 +/- 0.005</td>\n",
       "    </tr>\n",
       "    <tr>\n",
       "      <th>0</th>\n",
       "      <td>XGB</td>\n",
       "      <td>0.94 +/- 0.002</td>\n",
       "      <td>0.734 +/- 0.006</td>\n",
       "      <td>0.824 +/- 0.004</td>\n",
       "    </tr>\n",
       "    <tr>\n",
       "      <th>0</th>\n",
       "      <td>KNN</td>\n",
       "      <td>0.666 +/- 0.009</td>\n",
       "      <td>0.45 +/- 0.006</td>\n",
       "      <td>0.537 +/- 0.004</td>\n",
       "    </tr>\n",
       "    <tr>\n",
       "      <th>0</th>\n",
       "      <td>Logistic Regression</td>\n",
       "      <td>0.742 +/- 0.021</td>\n",
       "      <td>0.151 +/- 0.001</td>\n",
       "      <td>0.251 +/- 0.001</td>\n",
       "    </tr>\n",
       "  </tbody>\n",
       "</table>\n",
       "</div>"
      ],
      "text/plain": [
       "            Model Name        PRECISION           RECALL         F1_score\n",
       "0  XGB -under_sampling  0.887 +/- 0.006  0.821 +/- 0.011  0.853 +/- 0.005\n",
       "0                  XGB   0.94 +/- 0.002  0.734 +/- 0.006  0.824 +/- 0.004\n",
       "0                  KNN  0.666 +/- 0.009   0.45 +/- 0.006  0.537 +/- 0.004\n",
       "0  Logistic Regression  0.742 +/- 0.021  0.151 +/- 0.001  0.251 +/- 0.001"
      ]
     },
     "execution_count": 77,
     "metadata": {},
     "output_type": "execute_result"
    }
   ],
   "source": [
    "modelling_result =pd.concat([lr_result, knn_result, xgb_result, xgb_under_result])\n",
    "modelling_result.sort_values('RECALL', ascending=False)"
   ]
  },
  {
   "cell_type": "code",
   "execution_count": 78,
   "id": "d8d0b108",
   "metadata": {},
   "outputs": [
    {
     "name": "stdout",
     "output_type": "stream",
     "text": [
      "\n",
      "Financial Impact of non detection \n"
     ]
    },
    {
     "data": {
      "text/html": [
       "<style type=\"text/css\">\n",
       "#T_3036b_row0_col3 {\n",
       "  background-color: yellow;\n",
       "}\n",
       "</style>\n",
       "<table id=\"T_3036b\">\n",
       "  <thead>\n",
       "    <tr>\n",
       "      <th class=\"blank level0\" >&nbsp;</th>\n",
       "      <th id=\"T_3036b_level0_col0\" class=\"col_heading level0 col0\" >LR</th>\n",
       "      <th id=\"T_3036b_level0_col1\" class=\"col_heading level0 col1\" >KNN</th>\n",
       "      <th id=\"T_3036b_level0_col2\" class=\"col_heading level0 col2\" >XGB</th>\n",
       "      <th id=\"T_3036b_level0_col3\" class=\"col_heading level0 col3\" >XGB under_sampling</th>\n",
       "    </tr>\n",
       "  </thead>\n",
       "  <tbody>\n",
       "    <tr>\n",
       "      <th id=\"T_3036b_level0_row0\" class=\"row_heading level0 row0\" >0</th>\n",
       "      <td id=\"T_3036b_row0_col0\" class=\"data row0 col0\" >4108654.000000</td>\n",
       "      <td id=\"T_3036b_row0_col1\" class=\"data row0 col1\" >3750329.000000</td>\n",
       "      <td id=\"T_3036b_row0_col2\" class=\"data row0 col2\" >2474445.000000</td>\n",
       "      <td id=\"T_3036b_row0_col3\" class=\"data row0 col3\" >2370909.000000</td>\n",
       "    </tr>\n",
       "  </tbody>\n",
       "</table>\n"
      ],
      "text/plain": [
       "<pandas.io.formats.style.Styler at 0x2938a273550>"
      ]
     },
     "execution_count": 78,
     "metadata": {},
     "output_type": "execute_result"
    }
   ],
   "source": [
    "impact_values ={'LR': [lr_default_impact], 'KNN': [knn_default_impact], 'XGB': [gbt_default_impact] , 'XGB under_sampling': xgb_uder_default_impact}\n",
    "eco_impact = pd.DataFrame(impact_values)\n",
    "print()\n",
    "print('Financial Impact of non detection ')\n",
    "eco_impact.apply(np.round).style.highlight_min(axis= 1)"
   ]
  },
  {
   "cell_type": "markdown",
   "id": "6ed7efbe",
   "metadata": {},
   "source": [
    "***Remarks:*** \n",
    "- The best result model is with XGB booster but are they stable? \n",
    "- With one would perfom better in real world?\n"
   ]
  },
  {
   "cell_type": "markdown",
   "id": "a69612a0",
   "metadata": {},
   "source": [
    "## Tunning "
   ]
  },
  {
   "cell_type": "code",
   "execution_count": 79,
   "id": "009304d4",
   "metadata": {},
   "outputs": [],
   "source": [
    "search_space = {\n",
    "    'n_estimators': [50, 100, 150, 200],\n",
    "    'learning_rate': [0.01, 0.1, 0.2, 0.3],\n",
    "    'min_child_weight':range(1,6,2),\n",
    "    'max_depth': range(3, 10),\n",
    "    'gamma':[i/10.0 for i in range(0,5)],\n",
    "    'subsample':[i/10.0 for i in range(6,10)],\n",
    "    'colsample_bytree':[i/10.0 for i in range(6,10)],\n",
    "    'reg_alpha':[1e-5, 1e-2, 0.1, 1, 100]\n",
    "  }\n"
   ]
  },
  {
   "cell_type": "code",
   "execution_count": 80,
   "id": "6289358e",
   "metadata": {},
   "outputs": [
    {
     "name": "stdout",
     "output_type": "stream",
     "text": [
      "Fitting 5 folds for each of 10 candidates, totalling 50 fits\n"
     ]
    },
    {
     "data": {
      "text/html": [
       "<style>#sk-container-id-3 {color: black;background-color: white;}#sk-container-id-3 pre{padding: 0;}#sk-container-id-3 div.sk-toggleable {background-color: white;}#sk-container-id-3 label.sk-toggleable__label {cursor: pointer;display: block;width: 100%;margin-bottom: 0;padding: 0.3em;box-sizing: border-box;text-align: center;}#sk-container-id-3 label.sk-toggleable__label-arrow:before {content: \"▸\";float: left;margin-right: 0.25em;color: #696969;}#sk-container-id-3 label.sk-toggleable__label-arrow:hover:before {color: black;}#sk-container-id-3 div.sk-estimator:hover label.sk-toggleable__label-arrow:before {color: black;}#sk-container-id-3 div.sk-toggleable__content {max-height: 0;max-width: 0;overflow: hidden;text-align: left;background-color: #f0f8ff;}#sk-container-id-3 div.sk-toggleable__content pre {margin: 0.2em;color: black;border-radius: 0.25em;background-color: #f0f8ff;}#sk-container-id-3 input.sk-toggleable__control:checked~div.sk-toggleable__content {max-height: 200px;max-width: 100%;overflow: auto;}#sk-container-id-3 input.sk-toggleable__control:checked~label.sk-toggleable__label-arrow:before {content: \"▾\";}#sk-container-id-3 div.sk-estimator input.sk-toggleable__control:checked~label.sk-toggleable__label {background-color: #d4ebff;}#sk-container-id-3 div.sk-label input.sk-toggleable__control:checked~label.sk-toggleable__label {background-color: #d4ebff;}#sk-container-id-3 input.sk-hidden--visually {border: 0;clip: rect(1px 1px 1px 1px);clip: rect(1px, 1px, 1px, 1px);height: 1px;margin: -1px;overflow: hidden;padding: 0;position: absolute;width: 1px;}#sk-container-id-3 div.sk-estimator {font-family: monospace;background-color: #f0f8ff;border: 1px dotted black;border-radius: 0.25em;box-sizing: border-box;margin-bottom: 0.5em;}#sk-container-id-3 div.sk-estimator:hover {background-color: #d4ebff;}#sk-container-id-3 div.sk-parallel-item::after {content: \"\";width: 100%;border-bottom: 1px solid gray;flex-grow: 1;}#sk-container-id-3 div.sk-label:hover label.sk-toggleable__label {background-color: #d4ebff;}#sk-container-id-3 div.sk-serial::before {content: \"\";position: absolute;border-left: 1px solid gray;box-sizing: border-box;top: 0;bottom: 0;left: 50%;z-index: 0;}#sk-container-id-3 div.sk-serial {display: flex;flex-direction: column;align-items: center;background-color: white;padding-right: 0.2em;padding-left: 0.2em;position: relative;}#sk-container-id-3 div.sk-item {position: relative;z-index: 1;}#sk-container-id-3 div.sk-parallel {display: flex;align-items: stretch;justify-content: center;background-color: white;position: relative;}#sk-container-id-3 div.sk-item::before, #sk-container-id-3 div.sk-parallel-item::before {content: \"\";position: absolute;border-left: 1px solid gray;box-sizing: border-box;top: 0;bottom: 0;left: 50%;z-index: -1;}#sk-container-id-3 div.sk-parallel-item {display: flex;flex-direction: column;z-index: 1;position: relative;background-color: white;}#sk-container-id-3 div.sk-parallel-item:first-child::after {align-self: flex-end;width: 50%;}#sk-container-id-3 div.sk-parallel-item:last-child::after {align-self: flex-start;width: 50%;}#sk-container-id-3 div.sk-parallel-item:only-child::after {width: 0;}#sk-container-id-3 div.sk-dashed-wrapped {border: 1px dashed gray;margin: 0 0.4em 0.5em 0.4em;box-sizing: border-box;padding-bottom: 0.4em;background-color: white;}#sk-container-id-3 div.sk-label label {font-family: monospace;font-weight: bold;display: inline-block;line-height: 1.2em;}#sk-container-id-3 div.sk-label-container {text-align: center;}#sk-container-id-3 div.sk-container {/* jupyter's `normalize.less` sets `[hidden] { display: none; }` but bootstrap.min.css set `[hidden] { display: none !important; }` so we also need the `!important` here to be able to override the default hidden behavior on the sphinx rendered scikit-learn.org. See: https://github.com/scikit-learn/scikit-learn/issues/21755 */display: inline-block !important;position: relative;}#sk-container-id-3 div.sk-text-repr-fallback {display: none;}</style><div id=\"sk-container-id-3\" class=\"sk-top-container\"><div class=\"sk-text-repr-fallback\"><pre>RandomizedSearchCV(cv=5,\n",
       "                   estimator=XGBClassifier(base_score=None, booster=None,\n",
       "                                           callbacks=None,\n",
       "                                           colsample_bylevel=None,\n",
       "                                           colsample_bynode=None,\n",
       "                                           colsample_bytree=None,\n",
       "                                           early_stopping_rounds=None,\n",
       "                                           enable_categorical=False,\n",
       "                                           eval_metric=None, gamma=None,\n",
       "                                           gpu_id=None, grow_policy=None,\n",
       "                                           importance_type=None,\n",
       "                                           interaction_constraints=None,\n",
       "                                           learning_rate=None, max_bin=None,...\n",
       "                                           predictor=None, random_state=None,\n",
       "                                           reg_alpha=None, reg_lambda=None, ...),\n",
       "                   param_distributions={&#x27;colsample_bytree&#x27;: [0.6, 0.7, 0.8,\n",
       "                                                             0.9],\n",
       "                                        &#x27;gamma&#x27;: [0.0, 0.1, 0.2, 0.3, 0.4],\n",
       "                                        &#x27;learning_rate&#x27;: [0.01, 0.1, 0.2, 0.3],\n",
       "                                        &#x27;max_depth&#x27;: range(3, 10),\n",
       "                                        &#x27;min_child_weight&#x27;: range(1, 6, 2),\n",
       "                                        &#x27;n_estimators&#x27;: [50, 100, 150, 200],\n",
       "                                        &#x27;reg_alpha&#x27;: [1e-05, 0.01, 0.1, 1, 100],\n",
       "                                        &#x27;subsample&#x27;: [0.6, 0.7, 0.8, 0.9]},\n",
       "                   verbose=True)</pre><b>In a Jupyter environment, please rerun this cell to show the HTML representation or trust the notebook. <br />On GitHub, the HTML representation is unable to render, please try loading this page with nbviewer.org.</b></div><div class=\"sk-container\" hidden><div class=\"sk-item sk-dashed-wrapped\"><div class=\"sk-label-container\"><div class=\"sk-label sk-toggleable\"><input class=\"sk-toggleable__control sk-hidden--visually\" id=\"sk-estimator-id-3\" type=\"checkbox\" ><label for=\"sk-estimator-id-3\" class=\"sk-toggleable__label sk-toggleable__label-arrow\">RandomizedSearchCV</label><div class=\"sk-toggleable__content\"><pre>RandomizedSearchCV(cv=5,\n",
       "                   estimator=XGBClassifier(base_score=None, booster=None,\n",
       "                                           callbacks=None,\n",
       "                                           colsample_bylevel=None,\n",
       "                                           colsample_bynode=None,\n",
       "                                           colsample_bytree=None,\n",
       "                                           early_stopping_rounds=None,\n",
       "                                           enable_categorical=False,\n",
       "                                           eval_metric=None, gamma=None,\n",
       "                                           gpu_id=None, grow_policy=None,\n",
       "                                           importance_type=None,\n",
       "                                           interaction_constraints=None,\n",
       "                                           learning_rate=None, max_bin=None,...\n",
       "                                           predictor=None, random_state=None,\n",
       "                                           reg_alpha=None, reg_lambda=None, ...),\n",
       "                   param_distributions={&#x27;colsample_bytree&#x27;: [0.6, 0.7, 0.8,\n",
       "                                                             0.9],\n",
       "                                        &#x27;gamma&#x27;: [0.0, 0.1, 0.2, 0.3, 0.4],\n",
       "                                        &#x27;learning_rate&#x27;: [0.01, 0.1, 0.2, 0.3],\n",
       "                                        &#x27;max_depth&#x27;: range(3, 10),\n",
       "                                        &#x27;min_child_weight&#x27;: range(1, 6, 2),\n",
       "                                        &#x27;n_estimators&#x27;: [50, 100, 150, 200],\n",
       "                                        &#x27;reg_alpha&#x27;: [1e-05, 0.01, 0.1, 1, 100],\n",
       "                                        &#x27;subsample&#x27;: [0.6, 0.7, 0.8, 0.9]},\n",
       "                   verbose=True)</pre></div></div></div><div class=\"sk-parallel\"><div class=\"sk-parallel-item\"><div class=\"sk-item\"><div class=\"sk-label-container\"><div class=\"sk-label sk-toggleable\"><input class=\"sk-toggleable__control sk-hidden--visually\" id=\"sk-estimator-id-4\" type=\"checkbox\" ><label for=\"sk-estimator-id-4\" class=\"sk-toggleable__label sk-toggleable__label-arrow\">estimator: XGBClassifier</label><div class=\"sk-toggleable__content\"><pre>XGBClassifier(base_score=None, booster=None, callbacks=None,\n",
       "              colsample_bylevel=None, colsample_bynode=None,\n",
       "              colsample_bytree=None, early_stopping_rounds=None,\n",
       "              enable_categorical=False, eval_metric=None, gamma=None,\n",
       "              gpu_id=None, grow_policy=None, importance_type=None,\n",
       "              interaction_constraints=None, learning_rate=None, max_bin=None,\n",
       "              max_cat_to_onehot=None, max_delta_step=None, max_depth=None,\n",
       "              max_leaves=None, min_child_weight=None, missing=nan,\n",
       "              monotone_constraints=None, n_estimators=100, n_jobs=None,\n",
       "              num_parallel_tree=None, predictor=None, random_state=None,\n",
       "              reg_alpha=None, reg_lambda=None, ...)</pre></div></div></div><div class=\"sk-serial\"><div class=\"sk-item\"><div class=\"sk-estimator sk-toggleable\"><input class=\"sk-toggleable__control sk-hidden--visually\" id=\"sk-estimator-id-5\" type=\"checkbox\" ><label for=\"sk-estimator-id-5\" class=\"sk-toggleable__label sk-toggleable__label-arrow\">XGBClassifier</label><div class=\"sk-toggleable__content\"><pre>XGBClassifier(base_score=None, booster=None, callbacks=None,\n",
       "              colsample_bylevel=None, colsample_bynode=None,\n",
       "              colsample_bytree=None, early_stopping_rounds=None,\n",
       "              enable_categorical=False, eval_metric=None, gamma=None,\n",
       "              gpu_id=None, grow_policy=None, importance_type=None,\n",
       "              interaction_constraints=None, learning_rate=None, max_bin=None,\n",
       "              max_cat_to_onehot=None, max_delta_step=None, max_depth=None,\n",
       "              max_leaves=None, min_child_weight=None, missing=nan,\n",
       "              monotone_constraints=None, n_estimators=100, n_jobs=None,\n",
       "              num_parallel_tree=None, predictor=None, random_state=None,\n",
       "              reg_alpha=None, reg_lambda=None, ...)</pre></div></div></div></div></div></div></div></div></div></div>"
      ],
      "text/plain": [
       "RandomizedSearchCV(cv=5,\n",
       "                   estimator=XGBClassifier(base_score=None, booster=None,\n",
       "                                           callbacks=None,\n",
       "                                           colsample_bylevel=None,\n",
       "                                           colsample_bynode=None,\n",
       "                                           colsample_bytree=None,\n",
       "                                           early_stopping_rounds=None,\n",
       "                                           enable_categorical=False,\n",
       "                                           eval_metric=None, gamma=None,\n",
       "                                           gpu_id=None, grow_policy=None,\n",
       "                                           importance_type=None,\n",
       "                                           interaction_constraints=None,\n",
       "                                           learning_rate=None, max_bin=None,...\n",
       "                                           predictor=None, random_state=None,\n",
       "                                           reg_alpha=None, reg_lambda=None, ...),\n",
       "                   param_distributions={'colsample_bytree': [0.6, 0.7, 0.8,\n",
       "                                                             0.9],\n",
       "                                        'gamma': [0.0, 0.1, 0.2, 0.3, 0.4],\n",
       "                                        'learning_rate': [0.01, 0.1, 0.2, 0.3],\n",
       "                                        'max_depth': range(3, 10),\n",
       "                                        'min_child_weight': range(1, 6, 2),\n",
       "                                        'n_estimators': [50, 100, 150, 200],\n",
       "                                        'reg_alpha': [1e-05, 0.01, 0.1, 1, 100],\n",
       "                                        'subsample': [0.6, 0.7, 0.8, 0.9]},\n",
       "                   verbose=True)"
      ]
     },
     "execution_count": 80,
     "metadata": {},
     "output_type": "execute_result"
    }
   ],
   "source": [
    "xgb_s = xgb.XGBClassifier()\n",
    "\n",
    "rs_xgb = RandomizedSearchCV(estimator= xgb_s,\n",
    "                            param_distributions=search_space,\n",
    "                            n_iter=10,\n",
    "                            cv=5,\n",
    "                            verbose=True\n",
    "               )\n",
    "\n",
    "rs_xgb.fit(X_train[selection_xgt2], y_train)"
   ]
  },
  {
   "cell_type": "code",
   "execution_count": 81,
   "id": "895335d3",
   "metadata": {},
   "outputs": [
    {
     "data": {
      "text/plain": [
       "{'subsample': 0.8,\n",
       " 'reg_alpha': 0.1,\n",
       " 'n_estimators': 100,\n",
       " 'min_child_weight': 3,\n",
       " 'max_depth': 5,\n",
       " 'learning_rate': 0.1,\n",
       " 'gamma': 0.3,\n",
       " 'colsample_bytree': 0.6}"
      ]
     },
     "execution_count": 81,
     "metadata": {},
     "output_type": "execute_result"
    }
   ],
   "source": [
    "rs_xgb.best_params_"
   ]
  },
  {
   "cell_type": "code",
   "execution_count": 82,
   "id": "565522d7",
   "metadata": {},
   "outputs": [
    {
     "name": "stdout",
     "output_type": "stream",
     "text": [
      "              precision    recall  f1-score   support\n",
      "\n",
      "           0       0.92      0.99      0.95      4563\n",
      "           1       0.97      0.69      0.81      1329\n",
      "\n",
      "    accuracy                           0.93      5892\n",
      "   macro avg       0.94      0.84      0.88      5892\n",
      "weighted avg       0.93      0.93      0.92      5892\n",
      "\n"
     ]
    }
   ],
   "source": [
    "y_pred_val = rs_xgb.predict(X_val[selection_xgt2])\n",
    "\n",
    "#print(classification_report(y_test, preds_df_gbt_under['pred_loan_status'], target_names=target_names))\n",
    "\n",
    "print(classification_report(y_val,y_pred_val) )"
   ]
  },
  {
   "cell_type": "markdown",
   "id": "d45d2040",
   "metadata": {},
   "source": [
    "### Calibration Curve -Stability of the Model"
   ]
  },
  {
   "cell_type": "code",
   "execution_count": 83,
   "id": "7090a98c",
   "metadata": {},
   "outputs": [],
   "source": [
    "# predict\n",
    "preds_rs_gbt= rs_xgb.predict_proba(X_test[selection_xgt2])\n",
    "\n",
    "preds_df_gbt_rs= preds_df_func(preds_rs_gbt,X_test[selection_xgt2], y_test, therehold = 0.5)\n",
    "preds_df_gbt_rs.head(1)\n",
    "\n",
    "# Plot the ROC curve of the probabilities of default\n",
    "prob_default_rs = preds_rs_gbt[:, 1]\n"
   ]
  },
  {
   "cell_type": "code",
   "execution_count": 89,
   "id": "07a2e57d",
   "metadata": {},
   "outputs": [
    {
     "ename": "ValueError",
     "evalue": "X has 12 features, but KNeighborsClassifier is expecting 28 features as input.",
     "output_type": "error",
     "traceback": [
      "\u001b[1;31m---------------------------------------------------------------------------\u001b[0m",
      "\u001b[1;31mValueError\u001b[0m                                Traceback (most recent call last)",
      "Input \u001b[1;32mIn [89]\u001b[0m, in \u001b[0;36m<cell line: 3>\u001b[1;34m()\u001b[0m\n\u001b[0;32m      1\u001b[0m prob_default_xgb \u001b[38;5;241m=\u001b[39m preds_gbt2[:, \u001b[38;5;241m1\u001b[39m]\n\u001b[1;32m----> 3\u001b[0m preds_knn \u001b[38;5;241m=\u001b[39m \u001b[43mknn_model\u001b[49m\u001b[38;5;241;43m.\u001b[39;49m\u001b[43mpredict_proba\u001b[49m\u001b[43m(\u001b[49m\u001b[43mX_test\u001b[49m\u001b[43m[\u001b[49m\u001b[43msel_columns_require_normalization\u001b[49m\u001b[43m]\u001b[49m\u001b[43m)\u001b[49m\n\u001b[0;32m      4\u001b[0m prob_default_knn \u001b[38;5;241m=\u001b[39m preds_knn[:, \u001b[38;5;241m1\u001b[39m]\n",
      "File \u001b[1;32m~\\anaconda3\\envs\\ds\\lib\\site-packages\\sklearn\\neighbors\\_classification.py:268\u001b[0m, in \u001b[0;36mKNeighborsClassifier.predict_proba\u001b[1;34m(self, X)\u001b[0m\n\u001b[0;32m    250\u001b[0m \u001b[38;5;124;03m\"\"\"Return probability estimates for the test data X.\u001b[39;00m\n\u001b[0;32m    251\u001b[0m \n\u001b[0;32m    252\u001b[0m \u001b[38;5;124;03mParameters\u001b[39;00m\n\u001b[1;32m   (...)\u001b[0m\n\u001b[0;32m    263\u001b[0m \u001b[38;5;124;03m    by lexicographic order.\u001b[39;00m\n\u001b[0;32m    264\u001b[0m \u001b[38;5;124;03m\"\"\"\u001b[39;00m\n\u001b[0;32m    265\u001b[0m \u001b[38;5;28;01mif\u001b[39;00m \u001b[38;5;28mself\u001b[39m\u001b[38;5;241m.\u001b[39mweights \u001b[38;5;241m==\u001b[39m \u001b[38;5;124m\"\u001b[39m\u001b[38;5;124muniform\u001b[39m\u001b[38;5;124m\"\u001b[39m:\n\u001b[0;32m    266\u001b[0m     \u001b[38;5;66;03m# In that case, we do not need the distances to perform\u001b[39;00m\n\u001b[0;32m    267\u001b[0m     \u001b[38;5;66;03m# the weighting so we do not compute them.\u001b[39;00m\n\u001b[1;32m--> 268\u001b[0m     neigh_ind \u001b[38;5;241m=\u001b[39m \u001b[38;5;28;43mself\u001b[39;49m\u001b[38;5;241;43m.\u001b[39;49m\u001b[43mkneighbors\u001b[49m\u001b[43m(\u001b[49m\u001b[43mX\u001b[49m\u001b[43m,\u001b[49m\u001b[43m \u001b[49m\u001b[43mreturn_distance\u001b[49m\u001b[38;5;241;43m=\u001b[39;49m\u001b[38;5;28;43;01mFalse\u001b[39;49;00m\u001b[43m)\u001b[49m\n\u001b[0;32m    269\u001b[0m     neigh_dist \u001b[38;5;241m=\u001b[39m \u001b[38;5;28;01mNone\u001b[39;00m\n\u001b[0;32m    270\u001b[0m \u001b[38;5;28;01melse\u001b[39;00m:\n",
      "File \u001b[1;32m~\\anaconda3\\envs\\ds\\lib\\site-packages\\sklearn\\neighbors\\_base.py:745\u001b[0m, in \u001b[0;36mKNeighborsMixin.kneighbors\u001b[1;34m(self, X, n_neighbors, return_distance)\u001b[0m\n\u001b[0;32m    743\u001b[0m         X \u001b[38;5;241m=\u001b[39m _check_precomputed(X)\n\u001b[0;32m    744\u001b[0m     \u001b[38;5;28;01melse\u001b[39;00m:\n\u001b[1;32m--> 745\u001b[0m         X \u001b[38;5;241m=\u001b[39m \u001b[38;5;28;43mself\u001b[39;49m\u001b[38;5;241;43m.\u001b[39;49m\u001b[43m_validate_data\u001b[49m\u001b[43m(\u001b[49m\u001b[43mX\u001b[49m\u001b[43m,\u001b[49m\u001b[43m \u001b[49m\u001b[43maccept_sparse\u001b[49m\u001b[38;5;241;43m=\u001b[39;49m\u001b[38;5;124;43m\"\u001b[39;49m\u001b[38;5;124;43mcsr\u001b[39;49m\u001b[38;5;124;43m\"\u001b[39;49m\u001b[43m,\u001b[49m\u001b[43m \u001b[49m\u001b[43mreset\u001b[49m\u001b[38;5;241;43m=\u001b[39;49m\u001b[38;5;28;43;01mFalse\u001b[39;49;00m\u001b[43m,\u001b[49m\u001b[43m \u001b[49m\u001b[43morder\u001b[49m\u001b[38;5;241;43m=\u001b[39;49m\u001b[38;5;124;43m\"\u001b[39;49m\u001b[38;5;124;43mC\u001b[39;49m\u001b[38;5;124;43m\"\u001b[39;49m\u001b[43m)\u001b[49m\n\u001b[0;32m    747\u001b[0m n_samples_fit \u001b[38;5;241m=\u001b[39m \u001b[38;5;28mself\u001b[39m\u001b[38;5;241m.\u001b[39mn_samples_fit_\n\u001b[0;32m    748\u001b[0m \u001b[38;5;28;01mif\u001b[39;00m n_neighbors \u001b[38;5;241m>\u001b[39m n_samples_fit:\n",
      "File \u001b[1;32m~\\anaconda3\\envs\\ds\\lib\\site-packages\\sklearn\\base.py:600\u001b[0m, in \u001b[0;36mBaseEstimator._validate_data\u001b[1;34m(self, X, y, reset, validate_separately, **check_params)\u001b[0m\n\u001b[0;32m    597\u001b[0m     out \u001b[38;5;241m=\u001b[39m X, y\n\u001b[0;32m    599\u001b[0m \u001b[38;5;28;01mif\u001b[39;00m \u001b[38;5;129;01mnot\u001b[39;00m no_val_X \u001b[38;5;129;01mand\u001b[39;00m check_params\u001b[38;5;241m.\u001b[39mget(\u001b[38;5;124m\"\u001b[39m\u001b[38;5;124mensure_2d\u001b[39m\u001b[38;5;124m\"\u001b[39m, \u001b[38;5;28;01mTrue\u001b[39;00m):\n\u001b[1;32m--> 600\u001b[0m     \u001b[38;5;28;43mself\u001b[39;49m\u001b[38;5;241;43m.\u001b[39;49m\u001b[43m_check_n_features\u001b[49m\u001b[43m(\u001b[49m\u001b[43mX\u001b[49m\u001b[43m,\u001b[49m\u001b[43m \u001b[49m\u001b[43mreset\u001b[49m\u001b[38;5;241;43m=\u001b[39;49m\u001b[43mreset\u001b[49m\u001b[43m)\u001b[49m\n\u001b[0;32m    602\u001b[0m \u001b[38;5;28;01mreturn\u001b[39;00m out\n",
      "File \u001b[1;32m~\\anaconda3\\envs\\ds\\lib\\site-packages\\sklearn\\base.py:400\u001b[0m, in \u001b[0;36mBaseEstimator._check_n_features\u001b[1;34m(self, X, reset)\u001b[0m\n\u001b[0;32m    397\u001b[0m     \u001b[38;5;28;01mreturn\u001b[39;00m\n\u001b[0;32m    399\u001b[0m \u001b[38;5;28;01mif\u001b[39;00m n_features \u001b[38;5;241m!=\u001b[39m \u001b[38;5;28mself\u001b[39m\u001b[38;5;241m.\u001b[39mn_features_in_:\n\u001b[1;32m--> 400\u001b[0m     \u001b[38;5;28;01mraise\u001b[39;00m \u001b[38;5;167;01mValueError\u001b[39;00m(\n\u001b[0;32m    401\u001b[0m         \u001b[38;5;124mf\u001b[39m\u001b[38;5;124m\"\u001b[39m\u001b[38;5;124mX has \u001b[39m\u001b[38;5;132;01m{\u001b[39;00mn_features\u001b[38;5;132;01m}\u001b[39;00m\u001b[38;5;124m features, but \u001b[39m\u001b[38;5;132;01m{\u001b[39;00m\u001b[38;5;28mself\u001b[39m\u001b[38;5;241m.\u001b[39m\u001b[38;5;18m__class__\u001b[39m\u001b[38;5;241m.\u001b[39m\u001b[38;5;18m__name__\u001b[39m\u001b[38;5;132;01m}\u001b[39;00m\u001b[38;5;124m \u001b[39m\u001b[38;5;124m\"\u001b[39m\n\u001b[0;32m    402\u001b[0m         \u001b[38;5;124mf\u001b[39m\u001b[38;5;124m\"\u001b[39m\u001b[38;5;124mis expecting \u001b[39m\u001b[38;5;132;01m{\u001b[39;00m\u001b[38;5;28mself\u001b[39m\u001b[38;5;241m.\u001b[39mn_features_in_\u001b[38;5;132;01m}\u001b[39;00m\u001b[38;5;124m features as input.\u001b[39m\u001b[38;5;124m\"\u001b[39m\n\u001b[0;32m    403\u001b[0m     )\n",
      "\u001b[1;31mValueError\u001b[0m: X has 12 features, but KNeighborsClassifier is expecting 28 features as input."
     ]
    }
   ],
   "source": [
    "prob_default_xgb = preds_gbt2[:, 1]\n",
    "\n",
    "preds_knn = knn_model.predict_proba(X_test[sel_columns_require_normalization])\n",
    "prob_default_knn = preds_knn[:, 1]\n"
   ]
  },
  {
   "cell_type": "code",
   "execution_count": 88,
   "id": "1a55b4c3",
   "metadata": {},
   "outputs": [],
   "source": [
    "#Model calibration\n",
    "#check the calibration of the  models to see how stable the default prediction performance is across probabilities.\n",
    "\n",
    "\n",
    "calibration_xgb_under  = calibration_curve(y_test, prob_default,  n_bins = 30)\n",
    "fraction_positiviry_under = calibration_xgb_under[0]\n",
    "mean_prob_under = calibration_xgb_under[1]\n",
    "\n",
    "calibration_xgb  = calibration_curve(y_test, prob_default_xgb,  n_bins = 30)\n",
    "fraction_positiviry_xgb = calibration_xgb[0]\n",
    "mean_prob_xgb = calibration_xgb[1]\n",
    "\n",
    "calibration_rs_xgb  = calibration_curve(y_test, prob_default_rs,  n_bins = 30)\n",
    "fraction_positiviry_xgb_rs = calibration_rs_xgb[0]\n",
    "mean_prob_xgb_rs = calibration_rs_xgb[1]\n",
    "\n",
    "calibration_knn  = calibration_curve(y_test, prob_default_knn,  n_bins = 30)\n",
    "fraction_positiviry_knn = calibration_knn[0]\n",
    "mean_prob_knn = calibration_knn[1]"
   ]
  },
  {
   "cell_type": "code",
   "execution_count": 91,
   "id": "924bd264",
   "metadata": {},
   "outputs": [
    {
     "data": {
      "image/png": "[encoded data removed]",
      "text/plain": [
       "<Figure size 432x288 with 1 Axes>"
      ]
     },
     "metadata": {
      "needs_background": "light"
     },
     "output_type": "display_data"
    }
   ],
   "source": [
    "# Add the calibration curve for the gradient boosted tree\n",
    "plt.plot([0, 1], [0, 1], 'k:', label='Perfectly calibrated')    \n",
    "plt.plot(mean_prob_under, fraction_positiviry_under,\n",
    "         's-', label='%s' % 'Gradient Boosted tree -undersamplig')\n",
    "plt.plot(mean_prob_xgb, fraction_positiviry_xgb,\n",
    "         's-', label='%s' % 'Gradient Boosted ')\n",
    "plt.plot(mean_prob_knn, fraction_positiviry_knn,\n",
    "         's-', label='%s' % 'KNN ')\n",
    "plt.plot(mean_prob_xgb_rs, fraction_positiviry_xgb_rs,\n",
    "         's-', label='%s' % 'XGB_rs ')\n",
    "plt.ylabel('Fraction of positives')\n",
    "plt.xlabel('Average Predicted Probability')\n",
    "plt.legend()\n",
    "plt.title('Calibration Curve')\n",
    "plt.show()"
   ]
  },
  {
   "cell_type": "markdown",
   "id": "95698ddd",
   "metadata": {},
   "source": [
    "### Final Model « Validate\n",
    "- Comparing model stability and performance, it was decided to use XGB Boost and not undersample the trainning data"
   ]
  },
  {
   "cell_type": "code",
   "execution_count": 94,
   "id": "b8a2d0a5",
   "metadata": {},
   "outputs": [
    {
     "data": {
      "text/html": [
       "<div>\n",
       "<style scoped>\n",
       "    .dataframe tbody tr th:only-of-type {\n",
       "        vertical-align: middle;\n",
       "    }\n",
       "\n",
       "    .dataframe tbody tr th {\n",
       "        vertical-align: top;\n",
       "    }\n",
       "\n",
       "    .dataframe thead th {\n",
       "        text-align: right;\n",
       "    }\n",
       "</style>\n",
       "<table border=\"1\" class=\"dataframe\">\n",
       "  <thead>\n",
       "    <tr style=\"text-align: right;\">\n",
       "      <th></th>\n",
       "      <th>prob_default</th>\n",
       "      <th>pred_loan_status</th>\n",
       "    </tr>\n",
       "  </thead>\n",
       "  <tbody>\n",
       "    <tr>\n",
       "      <th>0</th>\n",
       "      <td>0.000996</td>\n",
       "      <td>0</td>\n",
       "    </tr>\n",
       "    <tr>\n",
       "      <th>1</th>\n",
       "      <td>0.010513</td>\n",
       "      <td>0</td>\n",
       "    </tr>\n",
       "    <tr>\n",
       "      <th>2</th>\n",
       "      <td>0.001239</td>\n",
       "      <td>0</td>\n",
       "    </tr>\n",
       "    <tr>\n",
       "      <th>3</th>\n",
       "      <td>0.062249</td>\n",
       "      <td>0</td>\n",
       "    </tr>\n",
       "    <tr>\n",
       "      <th>4</th>\n",
       "      <td>0.994938</td>\n",
       "      <td>1</td>\n",
       "    </tr>\n",
       "  </tbody>\n",
       "</table>\n",
       "</div>"
      ],
      "text/plain": [
       "   prob_default  pred_loan_status\n",
       "0      0.000996                 0\n",
       "1      0.010513                 0\n",
       "2      0.001239                 0\n",
       "3      0.062249                 0\n",
       "4      0.994938                 1"
      ]
     },
     "execution_count": 94,
     "metadata": {},
     "output_type": "execute_result"
    }
   ],
   "source": [
    "# predict\n",
    "preds_xgb_final_val= clf_gbt2.predict_proba(X_val[selection_xgt2])\n",
    "\n",
    "preds_df_xgb_final_val =preds_df_func(preds_xgb_final_val,X_val[selection_xgt2], y_val, therehold = 0.82)\n",
    "preds_df_xgb_final_val.head()\n"
   ]
  },
  {
   "cell_type": "code",
   "execution_count": 95,
   "id": "e0470c2b",
   "metadata": {},
   "outputs": [
    {
     "name": "stdout",
     "output_type": "stream",
     "text": [
      "              precision    recall  f1-score   support\n",
      "\n",
      " Non-Default       0.91      1.00      0.95      4563\n",
      "     Default       0.99      0.65      0.79      1329\n",
      "\n",
      "    accuracy                           0.92      5892\n",
      "   macro avg       0.95      0.82      0.87      5892\n",
      "weighted avg       0.93      0.92      0.91      5892\n",
      "\n"
     ]
    }
   ],
   "source": [
    "print(classification_report(y_val, preds_df_xgb_final_val['pred_loan_status'], target_names=target_names))"
   ]
  },
  {
   "cell_type": "code",
   "execution_count": 96,
   "id": "d31b6e3e",
   "metadata": {},
   "outputs": [
    {
     "name": "stdout",
     "output_type": "stream",
     "text": [
      "[[4555    8]\n",
      " [ 463  866]]\n"
     ]
    },
    {
     "data": {
      "image/png": "[encoded data removed]",
      "text/plain": [
       "<Figure size 432x288 with 2 Axes>"
      ]
     },
     "metadata": {
      "needs_background": "light"
     },
     "output_type": "display_data"
    }
   ],
   "source": [
    "# Print the confusion matrix\n",
    "print(confusion_matrix(y_val,preds_df_xgb_final_val['pred_loan_status']))\n",
    "sns.heatmap(confusion_matrix(y_val,preds_df_xgb_final_val['pred_loan_status']), annot=True, fmt=\".0f\");"
   ]
  },
  {
   "cell_type": "code",
   "execution_count": 98,
   "id": "783cb830",
   "metadata": {},
   "outputs": [
    {
     "data": {
      "image/png": "[encoded data removed]",
      "text/plain": [
       "<Figure size 432x288 with 1 Axes>"
      ]
     },
     "metadata": {
      "needs_background": "light"
     },
     "output_type": "display_data"
    },
    {
     "data": {
      "text/plain": [
       "0.9370079649063268"
      ]
     },
     "execution_count": 98,
     "metadata": {},
     "output_type": "execute_result"
    }
   ],
   "source": [
    "# Plot the ROC curve of the probabilities of default\n",
    "prob_default_final = preds_xgb_final_val[:, 1]\n",
    "fallout, sensitivity, thresholds = roc_curve(y_val, prob_default_final)\n",
    "plt.plot(fallout, sensitivity, color = 'darkorange')\n",
    "plt.plot([0, 1], [0, 1], linestyle='--')\n",
    "plt.show()\n",
    "\n",
    "# Compute the AUC and store it in a variable\n",
    "auc = roc_auc_score(y_val, prob_default_final)\n",
    "auc"
   ]
  },
  {
   "cell_type": "code",
   "execution_count": 99,
   "id": "173d6fdc",
   "metadata": {},
   "outputs": [
    {
     "name": "stdout",
     "output_type": "stream",
     "text": [
      "Estimated Loss impact: $ 2918072.79\n"
     ]
    }
   ],
   "source": [
    "#economic impact for the non detected default\n",
    "gbt_default_impact = economic_impact_nondetected_default(preds_df_xgb_final_val, y_val,avg_loan_amnt)"
   ]
  },
  {
   "cell_type": "code",
   "execution_count": 100,
   "id": "2f60a04e",
   "metadata": {},
   "outputs": [
    {
     "name": "stdout",
     "output_type": "stream",
     "text": [
      "Estimated Loss impact: $ 2918072.79\n"
     ]
    }
   ],
   "source": [
    "# Store the number of loan defaults from the prediction data\n",
    "num_defaults = preds_df_xgb_final_val['pred_loan_status'].value_counts()[1]\n",
    "nondef_recalls = preds_df_xgb_final_val['pred_loan_status'].value_counts()[0]\n",
    "\n",
    "# Store the default recall from the classification report\n",
    "default_recall = precision_recall_fscore_support(y_val,preds_df_xgb_final_val['pred_loan_status'])[1][1]\n",
    "\n",
    "# Calculate the estimated impact of the new default recall rate\n",
    "non_detected_default_impact = round(avg_loan_amnt * num_defaults * (1 - default_recall), 2)\n",
    "print('Estimated Loss impact: $', non_detected_default_impact)"
   ]
  },
  {
   "cell_type": "code",
   "execution_count": 101,
   "id": "aec2fc12",
   "metadata": {},
   "outputs": [
    {
     "name": "stdout",
     "output_type": "stream",
     "text": [
      "\n",
      "SUPPOSED REAL LOSS BASED ON THE VALIDATION df\n"
     ]
    },
    {
     "data": {
      "text/html": [
       "<div>\n",
       "<style scoped>\n",
       "    .dataframe tbody tr th:only-of-type {\n",
       "        vertical-align: middle;\n",
       "    }\n",
       "\n",
       "    .dataframe tbody tr th {\n",
       "        vertical-align: top;\n",
       "    }\n",
       "\n",
       "    .dataframe thead th {\n",
       "        text-align: right;\n",
       "    }\n",
       "</style>\n",
       "<table border=\"1\" class=\"dataframe\">\n",
       "  <thead>\n",
       "    <tr style=\"text-align: right;\">\n",
       "      <th>pred_loan_status</th>\n",
       "      <th>0</th>\n",
       "      <th>1</th>\n",
       "    </tr>\n",
       "    <tr>\n",
       "      <th>y</th>\n",
       "      <th></th>\n",
       "      <th></th>\n",
       "    </tr>\n",
       "  </thead>\n",
       "  <tbody>\n",
       "    <tr>\n",
       "      <th>0</th>\n",
       "      <td>$43,653,298.00</td>\n",
       "      <td>$76,668.80</td>\n",
       "    </tr>\n",
       "    <tr>\n",
       "      <th>1</th>\n",
       "      <td>$4,437,206.80</td>\n",
       "      <td>$8,299,397.60</td>\n",
       "    </tr>\n",
       "  </tbody>\n",
       "</table>\n",
       "</div>"
      ],
      "text/plain": [
       "pred_loan_status              0             1\n",
       "y                                            \n",
       "0                $43,653,298.00    $76,668.80\n",
       "1                 $4,437,206.80 $8,299,397.60"
      ]
     },
     "execution_count": 101,
     "metadata": {},
     "output_type": "execute_result"
    }
   ],
   "source": [
    "final_loss_pred = preds_df_xgb_final_val.copy() \n",
    "\n",
    "final_loss_pred = final_loss_pred.assign( y = y_val['loan_status'].values)\n",
    "\n",
    "# Set the formatting for currency, and print the cross tab\n",
    "pd.options.display.float_format = '${:,.2f}'.format\n",
    "print()\n",
    "print('SUPPOSED REAL LOSS BASED ON THE VALIDATION df')\n",
    "pd.crosstab(final_loss_pred['y'],\n",
    "                 final_loss_pred['pred_loan_status']).apply(lambda x: x * avg_loan_amnt, axis = 0)"
   ]
  },
  {
   "cell_type": "code",
   "execution_count": 102,
   "id": "f6df6e65",
   "metadata": {},
   "outputs": [],
   "source": [
    "pd.options.display.float_format = None\n"
   ]
  },
  {
   "cell_type": "markdown",
   "id": "28f774bc",
   "metadata": {},
   "source": [
    "***Inferencies:***\n",
    "   - Although the model estimated for a loss of approximately $ 2918072.79 based on the model metrics \n",
    "   \n",
    "   -  When it was tested on the validation dataframe and compare the predictions versus the real data\n",
    "    \n",
    "      the loss was more smaller, only $76,668.80  for cases where default was not detected***\n",
    "      \n",
    "***Next steps***\n",
    "\n",
    "    - Deploy"
   ]
  },
  {
   "cell_type": "markdown",
   "id": "90c9e770",
   "metadata": {},
   "source": [
    "# Strategy Table \n"
   ]
  },
  {
   "cell_type": "code",
   "execution_count": 103,
   "id": "26fedb52",
   "metadata": {},
   "outputs": [],
   "source": [
    "#Making the strategy table\n",
    "accept_rates = np.arange(1,0,-0.05)\n",
    "thresholds = []\n",
    "bad_rates = []"
   ]
  },
  {
   "cell_type": "code",
   "execution_count": 107,
   "id": "96a155c8",
   "metadata": {},
   "outputs": [],
   "source": [
    "test_pred_df = preds_df_gbt2.drop(columns=['pred_loan_status']).copy()\n",
    "test_pred_df['true_loan_status'] = y_test.reset_index(drop=True)\n",
    "test_pred_df['loan_amnt'] = X_test.loan_amnt.reset_index(drop=True)\n",
    "\n",
    "test_pred_df['loss_given_default'] = 1\n"
   ]
  },
  {
   "cell_type": "code",
   "execution_count": 108,
   "id": "0a5a9f32",
   "metadata": {},
   "outputs": [],
   "source": [
    "# Populate the arrays for the strategy table with a for loop\n",
    "for rate in accept_rates:\n",
    "    # Calculate the threshold for the acceptance rate\n",
    "    thresh = np.quantile(preds_df_gbt2['prob_default'], rate).round(3)\n",
    "    # Add the threshold value to the list of thresholds\n",
    "    thresholds.append(np.quantile(preds_df_gbt2['prob_default'], rate).round(3))\n",
    "    # Reassign the loan_status value using the threshold\n",
    "    test_pred_df['pred_loan_status'] = test_pred_df['prob_default'].apply(lambda x: 1 if x > thresh else 0)\n",
    "    # Create a set of accepted loans using this acceptance rate\n",
    "    accepted_loans = test_pred_df[test_pred_df['pred_loan_status'] == 0]\n",
    "    # Calculate and append the bad rate using the acceptance rate\n",
    "    bad_rates.append(np.sum((accepted_loans['true_loan_status']) / len(accepted_loans['true_loan_status'])).round(3))"
   ]
  },
  {
   "cell_type": "code",
   "execution_count": 110,
   "id": "4079f473",
   "metadata": {},
   "outputs": [
    {
     "data": {
      "text/html": [
       "<div>\n",
       "<style scoped>\n",
       "    .dataframe tbody tr th:only-of-type {\n",
       "        vertical-align: middle;\n",
       "    }\n",
       "\n",
       "    .dataframe tbody tr th {\n",
       "        vertical-align: top;\n",
       "    }\n",
       "\n",
       "    .dataframe thead th {\n",
       "        text-align: right;\n",
       "    }\n",
       "</style>\n",
       "<table border=\"1\" class=\"dataframe\">\n",
       "  <thead>\n",
       "    <tr style=\"text-align: right;\">\n",
       "      <th></th>\n",
       "      <th>Acceptance Rate</th>\n",
       "      <th>Threshold</th>\n",
       "      <th>Bad Rate</th>\n",
       "    </tr>\n",
       "  </thead>\n",
       "  <tbody>\n",
       "    <tr>\n",
       "      <th>0</th>\n",
       "      <td>1.00</td>\n",
       "      <td>1.000</td>\n",
       "      <td>0.226</td>\n",
       "    </tr>\n",
       "    <tr>\n",
       "      <th>1</th>\n",
       "      <td>0.95</td>\n",
       "      <td>1.000</td>\n",
       "      <td>0.189</td>\n",
       "    </tr>\n",
       "    <tr>\n",
       "      <th>2</th>\n",
       "      <td>0.90</td>\n",
       "      <td>1.000</td>\n",
       "      <td>0.140</td>\n",
       "    </tr>\n",
       "    <tr>\n",
       "      <th>3</th>\n",
       "      <td>0.85</td>\n",
       "      <td>0.998</td>\n",
       "      <td>0.090</td>\n",
       "    </tr>\n",
       "    <tr>\n",
       "      <th>4</th>\n",
       "      <td>0.80</td>\n",
       "      <td>0.990</td>\n",
       "      <td>0.060</td>\n",
       "    </tr>\n",
       "    <tr>\n",
       "      <th>5</th>\n",
       "      <td>0.75</td>\n",
       "      <td>0.890</td>\n",
       "      <td>0.048</td>\n",
       "    </tr>\n",
       "    <tr>\n",
       "      <th>6</th>\n",
       "      <td>0.70</td>\n",
       "      <td>0.344</td>\n",
       "      <td>0.039</td>\n",
       "    </tr>\n",
       "    <tr>\n",
       "      <th>7</th>\n",
       "      <td>0.65</td>\n",
       "      <td>0.192</td>\n",
       "      <td>0.034</td>\n",
       "    </tr>\n",
       "    <tr>\n",
       "      <th>8</th>\n",
       "      <td>0.60</td>\n",
       "      <td>0.133</td>\n",
       "      <td>0.029</td>\n",
       "    </tr>\n",
       "    <tr>\n",
       "      <th>9</th>\n",
       "      <td>0.55</td>\n",
       "      <td>0.095</td>\n",
       "      <td>0.026</td>\n",
       "    </tr>\n",
       "    <tr>\n",
       "      <th>10</th>\n",
       "      <td>0.50</td>\n",
       "      <td>0.072</td>\n",
       "      <td>0.024</td>\n",
       "    </tr>\n",
       "    <tr>\n",
       "      <th>11</th>\n",
       "      <td>0.45</td>\n",
       "      <td>0.056</td>\n",
       "      <td>0.021</td>\n",
       "    </tr>\n",
       "    <tr>\n",
       "      <th>12</th>\n",
       "      <td>0.40</td>\n",
       "      <td>0.044</td>\n",
       "      <td>0.019</td>\n",
       "    </tr>\n",
       "    <tr>\n",
       "      <th>13</th>\n",
       "      <td>0.35</td>\n",
       "      <td>0.035</td>\n",
       "      <td>0.014</td>\n",
       "    </tr>\n",
       "    <tr>\n",
       "      <th>14</th>\n",
       "      <td>0.30</td>\n",
       "      <td>0.027</td>\n",
       "      <td>0.010</td>\n",
       "    </tr>\n",
       "    <tr>\n",
       "      <th>15</th>\n",
       "      <td>0.25</td>\n",
       "      <td>0.021</td>\n",
       "      <td>0.005</td>\n",
       "    </tr>\n",
       "    <tr>\n",
       "      <th>16</th>\n",
       "      <td>0.20</td>\n",
       "      <td>0.014</td>\n",
       "      <td>0.002</td>\n",
       "    </tr>\n",
       "    <tr>\n",
       "      <th>17</th>\n",
       "      <td>0.15</td>\n",
       "      <td>0.010</td>\n",
       "      <td>0.001</td>\n",
       "    </tr>\n",
       "    <tr>\n",
       "      <th>18</th>\n",
       "      <td>0.10</td>\n",
       "      <td>0.006</td>\n",
       "      <td>0.000</td>\n",
       "    </tr>\n",
       "    <tr>\n",
       "      <th>19</th>\n",
       "      <td>0.05</td>\n",
       "      <td>0.002</td>\n",
       "      <td>0.000</td>\n",
       "    </tr>\n",
       "  </tbody>\n",
       "</table>\n",
       "</div>"
      ],
      "text/plain": [
       "    Acceptance Rate  Threshold  Bad Rate\n",
       "0              1.00      1.000     0.226\n",
       "1              0.95      1.000     0.189\n",
       "2              0.90      1.000     0.140\n",
       "3              0.85      0.998     0.090\n",
       "4              0.80      0.990     0.060\n",
       "5              0.75      0.890     0.048\n",
       "6              0.70      0.344     0.039\n",
       "7              0.65      0.192     0.034\n",
       "8              0.60      0.133     0.029\n",
       "9              0.55      0.095     0.026\n",
       "10             0.50      0.072     0.024\n",
       "11             0.45      0.056     0.021\n",
       "12             0.40      0.044     0.019\n",
       "13             0.35      0.035     0.014\n",
       "14             0.30      0.027     0.010\n",
       "15             0.25      0.021     0.005\n",
       "16             0.20      0.014     0.002\n",
       "17             0.15      0.010     0.001\n",
       "18             0.10      0.006     0.000\n",
       "19             0.05      0.002     0.000"
      ]
     },
     "execution_count": 110,
     "metadata": {},
     "output_type": "execute_result"
    }
   ],
   "source": [
    "# Create a data frame of the strategy table\n",
    "strat_df = pd.DataFrame(zip(accept_rates, thresholds, bad_rates),\n",
    "                        columns = ['Acceptance Rate','Threshold','Bad Rate'])\n",
    "\n",
    "# Print the entire table\n",
    "strat_df"
   ]
  },
  {
   "cell_type": "code",
   "execution_count": 111,
   "id": "9bd51600",
   "metadata": {},
   "outputs": [
    {
     "data": {
      "image/png": "[encoded data removed]",
      "text/plain": [
       "<Figure size 432x288 with 1 Axes>"
      ]
     },
     "metadata": {
      "needs_background": "light"
     },
     "output_type": "display_data"
    }
   ],
   "source": [
    "# Plot the predicted probabilities of default\n",
    "plt.hist(prob_default, color = 'blue', bins = 40)\n",
    "\n",
    "# Calculate the threshold with quantile\n",
    "threshold = np.quantile(prob_default, 0.80)\n",
    "\n",
    "\n",
    "# Add a reference line to the plot for the threshold\n",
    "plt.axvline(x = threshold, color = 'red')\n",
    "plt.show()"
   ]
  },
  {
   "cell_type": "code",
   "execution_count": 112,
   "id": "0ecafba7",
   "metadata": {},
   "outputs": [
    {
     "data": {
      "text/plain": [
       "0    4713\n",
       "1    1179\n",
       "Name: pred_loan_status, dtype: int64"
      ]
     },
     "execution_count": 112,
     "metadata": {},
     "output_type": "execute_result"
    }
   ],
   "source": [
    "# Calculate the threshold for a 85% acceptance rate\n",
    "threshold_80 = np.quantile(test_pred_df['prob_default'], 0.8)\n",
    "\n",
    "# Apply acceptance rate threshold\n",
    "test_pred_df['pred_loan_status'] = test_pred_df['prob_default'].apply(lambda x: 1 if x > threshold_80 else 0)\n",
    "\n",
    "# Print the counts of loan status after the threshold\n",
    "test_pred_df['pred_loan_status'].value_counts()"
   ]
  },
  {
   "cell_type": "code",
   "execution_count": 113,
   "id": "a610f0cd",
   "metadata": {},
   "outputs": [
    {
     "name": "stdout",
     "output_type": "stream",
     "text": [
      "Total expected loss:  $13,937,350.54\n"
     ]
    }
   ],
   "source": [
    "# Calculate the bank's expected loss and assign it to a new column\n",
    "test_pred_df['expected_loss'] = test_pred_df['prob_default'] * test_pred_df['loss_given_default'] * test_pred_df['loan_amnt']\n",
    "\n",
    "# Calculate the total expected loss to two decimal places\n",
    "tot_exp_loss = round(np.sum(test_pred_df['expected_loss']),2)\n",
    "\n",
    "# Print the total expected loss\n",
    "print('Total expected loss: ', '${:,.2f}'.format(tot_exp_loss))\n",
    "\n"
   ]
  },
  {
   "cell_type": "code",
   "execution_count": 114,
   "id": "ac585978",
   "metadata": {},
   "outputs": [
    {
     "name": "stdout",
     "output_type": "stream",
     "text": [
      "0.06025885847655421\n"
     ]
    }
   ],
   "source": [
    "#Bad rates\n",
    "# Create a subset of only accepted loans\n",
    "accepted_loans = test_pred_df[test_pred_df['pred_loan_status'] == 0]\n",
    "\n",
    "# Calculate the bad rate\n",
    "print(np.sum(accepted_loans['true_loan_status']) / accepted_loans['true_loan_status'].count())"
   ]
  },
  {
   "cell_type": "code",
   "execution_count": 115,
   "id": "f870b67c",
   "metadata": {},
   "outputs": [
    {
     "data": {
      "text/html": [
       "<div>\n",
       "<style scoped>\n",
       "    .dataframe tbody tr th:only-of-type {\n",
       "        vertical-align: middle;\n",
       "    }\n",
       "\n",
       "    .dataframe tbody tr th {\n",
       "        vertical-align: top;\n",
       "    }\n",
       "\n",
       "    .dataframe thead th {\n",
       "        text-align: right;\n",
       "    }\n",
       "</style>\n",
       "<table border=\"1\" class=\"dataframe\">\n",
       "  <thead>\n",
       "    <tr style=\"text-align: right;\">\n",
       "      <th>pred_loan_status</th>\n",
       "      <th>0</th>\n",
       "      <th>1</th>\n",
       "    </tr>\n",
       "    <tr>\n",
       "      <th>true_loan_status</th>\n",
       "      <th></th>\n",
       "      <th></th>\n",
       "    </tr>\n",
       "  </thead>\n",
       "  <tbody>\n",
       "    <tr>\n",
       "      <th>0</th>\n",
       "      <td>$42,445,764.40</td>\n",
       "      <td>$1,245,868.00</td>\n",
       "    </tr>\n",
       "    <tr>\n",
       "      <th>1</th>\n",
       "      <td>$2,721,742.40</td>\n",
       "      <td>$10,053,196.40</td>\n",
       "    </tr>\n",
       "  </tbody>\n",
       "</table>\n",
       "</div>"
      ],
      "text/plain": [
       "pred_loan_status              0              1\n",
       "true_loan_status                              \n",
       "0                $42,445,764.40  $1,245,868.00\n",
       "1                 $2,721,742.40 $10,053,196.40"
      ]
     },
     "execution_count": 115,
     "metadata": {},
     "output_type": "execute_result"
    }
   ],
   "source": [
    "# Set the formatting for currency, and print the cross tab\n",
    "pd.options.display.float_format = '${:,.2f}'.format\n",
    "pd.crosstab(test_pred_df['true_loan_status'],\n",
    "                 test_pred_df['pred_loan_status']).apply(lambda x: x * avg_loan_amnt, axis = 0)"
   ]
  },
  {
   "cell_type": "code",
   "execution_count": 116,
   "id": "99be4ddb",
   "metadata": {},
   "outputs": [],
   "source": [
    "pd.options.display.float_format = None\n"
   ]
  },
  {
   "cell_type": "code",
   "execution_count": 117,
   "id": "4765856a",
   "metadata": {},
   "outputs": [
    {
     "data": {
      "text/html": [
       "<div>\n",
       "<style scoped>\n",
       "    .dataframe tbody tr th:only-of-type {\n",
       "        vertical-align: middle;\n",
       "    }\n",
       "\n",
       "    .dataframe tbody tr th {\n",
       "        vertical-align: top;\n",
       "    }\n",
       "\n",
       "    .dataframe thead th {\n",
       "        text-align: right;\n",
       "    }\n",
       "</style>\n",
       "<table border=\"1\" class=\"dataframe\">\n",
       "  <thead>\n",
       "    <tr style=\"text-align: right;\">\n",
       "      <th></th>\n",
       "      <th>prob_default</th>\n",
       "      <th>pred_loan_status</th>\n",
       "      <th>y</th>\n",
       "    </tr>\n",
       "  </thead>\n",
       "  <tbody>\n",
       "    <tr>\n",
       "      <th>0</th>\n",
       "      <td>0.000996</td>\n",
       "      <td>0</td>\n",
       "      <td>0</td>\n",
       "    </tr>\n",
       "    <tr>\n",
       "      <th>1</th>\n",
       "      <td>0.010513</td>\n",
       "      <td>0</td>\n",
       "      <td>0</td>\n",
       "    </tr>\n",
       "    <tr>\n",
       "      <th>2</th>\n",
       "      <td>0.001239</td>\n",
       "      <td>0</td>\n",
       "      <td>0</td>\n",
       "    </tr>\n",
       "    <tr>\n",
       "      <th>3</th>\n",
       "      <td>0.062249</td>\n",
       "      <td>0</td>\n",
       "      <td>1</td>\n",
       "    </tr>\n",
       "    <tr>\n",
       "      <th>4</th>\n",
       "      <td>0.994938</td>\n",
       "      <td>1</td>\n",
       "      <td>1</td>\n",
       "    </tr>\n",
       "  </tbody>\n",
       "</table>\n",
       "</div>"
      ],
      "text/plain": [
       "   prob_default  pred_loan_status  y\n",
       "0      0.000996                 0  0\n",
       "1      0.010513                 0  0\n",
       "2      0.001239                 0  0\n",
       "3      0.062249                 0  1\n",
       "4      0.994938                 1  1"
      ]
     },
     "execution_count": 117,
     "metadata": {},
     "output_type": "execute_result"
    }
   ],
   "source": [
    "final_loss_pred = preds_df_xgb_final_val.copy() \n",
    "\n",
    "final_loss_pred = final_loss_pred.assign( y = y_val['loan_status'].values)\n",
    "final_loss_pred.head()"
   ]
  },
  {
   "cell_type": "code",
   "execution_count": 118,
   "id": "531103d2",
   "metadata": {},
   "outputs": [
    {
     "data": {
      "text/html": [
       "<div>\n",
       "<style scoped>\n",
       "    .dataframe tbody tr th:only-of-type {\n",
       "        vertical-align: middle;\n",
       "    }\n",
       "\n",
       "    .dataframe tbody tr th {\n",
       "        vertical-align: top;\n",
       "    }\n",
       "\n",
       "    .dataframe thead th {\n",
       "        text-align: right;\n",
       "    }\n",
       "</style>\n",
       "<table border=\"1\" class=\"dataframe\">\n",
       "  <thead>\n",
       "    <tr style=\"text-align: right;\">\n",
       "      <th>pred_loan_status</th>\n",
       "      <th>0</th>\n",
       "      <th>1</th>\n",
       "    </tr>\n",
       "    <tr>\n",
       "      <th>y</th>\n",
       "      <th></th>\n",
       "      <th></th>\n",
       "    </tr>\n",
       "  </thead>\n",
       "  <tbody>\n",
       "    <tr>\n",
       "      <th>0</th>\n",
       "      <td>$43,653,298.00</td>\n",
       "      <td>$76,668.80</td>\n",
       "    </tr>\n",
       "    <tr>\n",
       "      <th>1</th>\n",
       "      <td>$4,437,206.80</td>\n",
       "      <td>$8,299,397.60</td>\n",
       "    </tr>\n",
       "  </tbody>\n",
       "</table>\n",
       "</div>"
      ],
      "text/plain": [
       "pred_loan_status              0             1\n",
       "y                                            \n",
       "0                $43,653,298.00    $76,668.80\n",
       "1                 $4,437,206.80 $8,299,397.60"
      ]
     },
     "execution_count": 118,
     "metadata": {},
     "output_type": "execute_result"
    }
   ],
   "source": [
    "# Set the formatting for currency, and print the cross tab\n",
    "pd.options.display.float_format = '${:,.2f}'.format\n",
    "pd.crosstab(final_loss_pred['y'],\n",
    "                 final_loss_pred['pred_loan_status']).apply(lambda x: x * avg_loan_amnt, axis = 0)"
   ]
  }
 ],
 "metadata": {
  "kernelspec": {
   "display_name": "Python 3 (ipykernel)",
   "language": "python",
   "name": "python3"
  },
  "language_info": {
   "codemirror_mode": {
    "name": "ipython",
    "version": 3
   },
   "file_extension": ".py",
   "mimetype": "text/x-python",
   "name": "python",
   "nbconvert_exporter": "python",
   "pygments_lexer": "ipython3",
   "version": "3.9.12"
  },
  "toc": {
   "base_numbering": 1,
   "nav_menu": {},
   "number_sections": true,
   "sideBar": true,
   "skip_h1_title": false,
   "title_cell": "Table of Contents",
   "title_sidebar": "Contents",
   "toc_cell": false,
   "toc_position": {},
   "toc_section_display": true,
   "toc_window_display": false
  }
 },
 "nbformat": 4,
 "nbformat_minor": 5
}
